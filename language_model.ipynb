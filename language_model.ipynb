{
 "cells": [
  {
   "cell_type": "code",
   "execution_count": 1,
   "metadata": {},
   "outputs": [],
   "source": [
    "import torch\n",
    "import torchvision\n",
    "from torch.utils import data\n",
    "from torchvision import transforms\n",
    "import torch.nn as nn\n",
    "from torch.nn import functional as F\n",
    "import collections\n",
    "import numpy as np\n",
    "import pandas as pd\n",
    "import random\n",
    "import matplotlib.pyplot as plt\n",
    "from tqdm import tqdm\n",
    "import argparse\n",
    "from PIL import Image\n",
    "import re\n",
    "import os\n",
    "import math"
   ]
  },
  {
   "cell_type": "code",
   "execution_count": 2,
   "metadata": {},
   "outputs": [],
   "source": [
    "def parse_arg():\n",
    "    parser = argparse.ArgumentParser()\n",
    "    parser.add_argument(\"--lr\",type=float,default=1)\n",
    "    parser.add_argument(\"--seed\",type=int,default=5319)\n",
    "    parser.add_argument(\"--batch_size\",type=int,default=20)\n",
    "    parser.add_argument(\"--num_steps\",type=int,default=10)\n",
    "\n",
    "    parser.add_argument(\"--num_hiddens\",type=int,default=256)\n",
    "    parser.add_argument(\"--num_epochs\",type=int,default=500)\n",
    "    parser.add_argument(\"--device\",type=str,default=\"cuda\")\n",
    "    \n",
    "    arg = parser.parse_args(args=[])\n",
    "    return arg\n",
    "\n",
    "\n",
    "args = parse_arg()\n"
   ]
  },
  {
   "cell_type": "code",
   "execution_count": 3,
   "metadata": {},
   "outputs": [
    {
     "name": "stdout",
     "output_type": "stream",
     "text": [
      "['the', 'project', 'gutenberg', 'ebook', 'of', 'the', 'time', 'machine', 'by', 'h', 'g', 'wells', 'this', 'ebook', 'is', 'for', 'the', 'use', 'of', 'anyone', 'anywhere', 'in', 'the', 'united', 'states', 'and', 'most', 'other', 'parts', 'of', 'the', 'world', 'at', 'no', 'cost', 'and', 'with', 'almost', 'no', 'restrictions', 'whatsoever', 'you', 'may', 'copy', 'it', 'give', 'it', 'away', 'or', 're', 'use', 'it', 'under', 'the', 'terms', 'of', 'the', 'project', 'gutenberg', 'license', 'included', 'with', 'this', 'ebook', 'or', 'online', 'at', 'www', 'gutenberg', 'org', 'if', 'you', 'are', 'not', 'located', 'in', 'the', 'united', 'states', 'you', 'will', 'have', 'to', 'check', 'the', 'laws', 'of', 'the', 'country', 'where', 'you', 'are', 'located', 'before', 'using', 'this', 'ebook', 'title', 'the', 'time', 'machine', 'author', 'h', 'g', 'wells', 'release', 'date', 'july', 'ebook', 'most', 'recently', 'updated', 'october', 'language', 'english', 'character', 'set', 'encoding', 'utf', 'start', 'of', 'the', 'project', 'gutenberg', 'ebook', 'the', 'time', 'machine', 'the', 'time', 'machine', 'an', 'invention', 'by', 'h', 'g', 'wells', 'contents', 'i', 'introduction', 'ii', 'the', 'machine', 'iii', 'the', 'time', 'traveller', 'returns', 'iv', 'time', 'travelling', 'v', 'in', 'the', 'golden', 'age', 'vi', 'the', 'sunset', 'of', 'mankind', 'vii', 'a', 'sudden', 'shock', 'viii', 'explanation', 'ix', 'the', 'morlocks', 'x', 'when', 'night', 'came', 'xi', 'the', 'palace', 'of', 'green', 'porcelain', 'xii', 'in', 'the', 'darkness', 'xiii', 'the', 'trap', 'of', 'the', 'white', 'sphinx', 'xiv', 'the', 'further', 'vision', 'xv', 'the', 'time', 'traveller', 's', 'return', 'xvi', 'after', 'the', 'story', 'epilogue', 'i', 'introduction', 'the', 'time', 'traveller', 'for', 'so', 'it', 'will', 'be', 'convenient', 'to', 'speak', 'of', 'him', 'was', 'expounding', 'a', 'recondite', 'matter', 'to', 'us', 'his', 'pale', 'grey', 'eyes', 'shone', 'and', 'twinkled', 'and', 'his', 'usually', 'pale', 'face', 'was', 'flushed', 'and', 'animated', 'the', 'fire', 'burnt', 'brightly', 'and', 'the', 'soft', 'radiance', 'of', 'the', 'incandescent', 'lights', 'in', 'the', 'lilies', 'of', 'silver', 'caught', 'the', 'bubbles', 'that', 'flashed', 'and', 'passed', 'in', 'our', 'glasses', 'our', 'chairs', 'being', 'his', 'patents', 'embraced', 'and', 'caressed', 'us', 'rather', 'than', 'submitted', 'to', 'be', 'sat', 'upon', 'and', 'there', 'was', 'that', 'luxurious', 'after', 'dinner', 'atmosphere', 'when', 'thought', 'runs', 'gracefully', 'free', 'of', 'the', 'trammels', 'of', 'precision', 'and', 'he', 'put', 'it', 'to', 'us', 'in', 'this', 'way', 'marking', 'the', 'points', 'with', 'a', 'lean', 'forefinger', 'as', 'we', 'sat', 'and', 'lazily', 'admired', 'his', 'earnestness', 'over', 'this', 'new', 'paradox', 'as', 'we', 'thought', 'it', 'and', 'his', 'fecundity', 'you', 'must', 'follow', 'me', 'carefully', 'i', 'shall', 'have', 'to', 'controvert', 'one', 'or', 'two', 'ideas', 'that', 'are', 'almost', 'universally', 'accepted', 'the', 'geometry', 'for', 'instance', 'they', 'taught', 'you', 'at', 'school', 'is', 'founded', 'on', 'a', 'misconception', 'is', 'not', 'that', 'rather', 'a', 'large', 'thing', 'to', 'expect', 'us', 'to', 'begin', 'upon', 'said', 'filby', 'an', 'argumentative', 'person', 'with', 'red', 'hair', 'i', 'do', 'not', 'mean', 'to', 'ask', 'you', 'to', 'accept', 'anything', 'without', 'reasonable', 'ground', 'for', 'it', 'you', 'will', 'soon', 'admit', 'as', 'much', 'as', 'i', 'need', 'from', 'you', 'you', 'know', 'of', 'course', 'that', 'a', 'mathematical', 'line', 'a', 'line', 'of', 'thickness', 'nil', 'has', 'no', 'real', 'existence', 'they', 'taught', 'you', 'that', 'neither', 'has', 'a', 'mathematical', 'plane', 'these', 'things', 'are', 'mere', 'abstractions', 'that', 'is', 'all', 'right', 'said', 'the', 'psychologist', 'nor', 'having', 'only', 'length', 'breadth', 'and', 'thickness', 'can', 'a', 'cube', 'have', 'a', 'real', 'existence', 'there', 'i', 'object', 'said', 'filby', 'of', 'course', 'a', 'solid', 'body', 'may', 'exist', 'all', 'real', 'things', 'so', 'most', 'people', 'think', 'but', 'wait', 'a', 'moment', 'can', 'an', 'instantaneous', 'cube', 'exist', 'don', 't', 'follow', 'you', 'said', 'filby', 'can', 'a', 'cube', 'that', 'does', 'not', 'last', 'for', 'any', 'time', 'at', 'all', 'have', 'a', 'real', 'existence', 'filby', 'became', 'pensive', 'clearly', 'the', 'time', 'traveller', 'proceeded', 'any', 'real', 'body', 'must', 'have', 'extension', 'in', 'four', 'directions', 'it', 'must', 'have', 'length', 'breadth', 'thickness', 'and', 'duration', 'but', 'through', 'a', 'natural', 'infirmity', 'of', 'the', 'flesh', 'which', 'i', 'will', 'explain', 'to', 'you', 'in', 'a', 'moment', 'we', 'incline', 'to', 'overlook', 'this', 'fact', 'there', 'are', 'really', 'four', 'dimensions', 'three', 'which', 'we', 'call', 'the', 'three', 'planes', 'of', 'space', 'and', 'a', 'fourth', 'time', 'there', 'is', 'however', 'a', 'tendency', 'to', 'draw', 'an', 'unreal', 'distinction', 'between', 'the', 'former', 'three', 'dimensions', 'and', 'the', 'latter', 'because', 'it', 'happens', 'that', 'our', 'consciousness', 'moves', 'intermittently', 'in', 'one', 'direction', 'along', 'the', 'latter', 'from', 'the', 'beginning', 'to', 'the', 'end', 'of', 'our', 'lives', 'that', 'said', 'a', 'very', 'young', 'man', 'making', 'spasmodic', 'efforts', 'to', 'relight', 'his', 'cigar', 'over', 'the', 'lamp', 'that', 'very', 'clear', 'indeed', 'now', 'it', 'is', 'very', 'remarkable', 'that', 'this', 'is', 'so', 'extensively', 'overlooked', 'continued', 'the', 'time', 'traveller', 'with', 'a', 'slight', 'accession', 'of', 'cheerfulness', 'really', 'this', 'is', 'what', 'is', 'meant', 'by', 'the', 'fourth', 'dimension', 'though', 'some', 'people', 'who', 'talk', 'about', 'the', 'fourth', 'dimension', 'do', 'not', 'know', 'they', 'mean', 'it', 'it', 'is', 'only', 'another', 'way', 'of', 'looking', 'at', 'time', 'there', 'is', 'no', 'difference', 'between', 'time', 'and', 'any', 'of', 'the', 'three', 'dimensions', 'of', 'space', 'except', 'that', 'our', 'consciousness', 'moves', 'along', 'it', 'but', 'some', 'foolish', 'people', 'have', 'got', 'hold', 'of', 'the', 'wrong', 'side', 'of', 'that', 'idea', 'you', 'have', 'all', 'heard', 'what', 'they', 'have', 'to', 'say', 'about', 'this', 'fourth', 'dimension', 'i', 'have', 'not', 'said', 'the', 'provincial', 'mayor', 'it', 'is', 'simply', 'this', 'that', 'space', 'as', 'our', 'mathematicians', 'have', 'it', 'is', 'spoken', 'of', 'as', 'having', 'three', 'dimensions', 'which', 'one', 'may', 'call', 'length', 'breadth', 'and', 'thickness', 'and', 'is', 'always', 'definable', 'by', 'reference', 'to', 'three', 'planes', 'each', 'at', 'right', 'angles', 'to', 'the', 'others', 'but', 'some', 'philosophical', 'people', 'have', 'been', 'asking', 'why', 'three', 'dimensions', 'particularly', 'why', 'not', 'another', 'direction', 'at', 'right', 'angles', 'to', 'the', 'other', 'three', 'and', 'have', 'even', 'tried', 'to', 'construct', 'a', 'four', 'dimensional', 'geometry', 'professor', 'simon', 'newcomb', 'was', 'expounding', 'this', 'to', 'the', 'new', 'york', 'mathematical', 'society', 'only', 'a', 'month', 'or', 'so', 'ago', 'you', 'know', 'how', 'on', 'a', 'flat', 'surface', 'which', 'has', 'only', 'two', 'dimensions', 'we', 'can', 'represent', 'a', 'figure', 'of', 'a', 'three', 'dimensional', 'solid', 'and', 'similarly', 'they', 'think', 'that', 'by', 'models', 'of', 'three', 'dimensions', 'they', 'could', 'represent', 'one', 'of', 'four', 'if', 'they', 'could', 'master', 'the', 'perspective', 'of', 'the', 'thing', 'see', 'i', 'think', 'so', 'murmured', 'the', 'provincial', 'mayor', 'and', 'knitting', 'his', 'brows', 'he', 'lapsed', 'into', 'an', 'introspective', 'state', 'his', 'lips', 'moving', 'as', 'one', 'who', 'repeats', 'mystic', 'words', 'yes', 'i', 'think', 'i', 'see', 'it', 'now', 'he', 'said', 'after', 'some', 'time', 'brightening', 'in', 'a', 'quite', 'transitory', 'manner', 'well', 'i', 'do', 'not', 'mind', 'telling', 'you', 'i', 'have', 'been', 'at', 'work', 'upon', 'this', 'geometry', 'of', 'four', 'dimensions', 'for', 'some', 'time', 'some', 'of', 'my', 'results', 'are', 'curious', 'for', 'instance', 'here', 'is', 'a', 'portrait', 'of', 'a', 'man', 'at', 'eight', 'years', 'old', 'another', 'at', 'fifteen', 'another', 'at', 'seventeen', 'another', 'at', 'twenty', 'three', 'and', 'so', 'on', 'all', 'these', 'are', 'evidently', 'sections', 'as', 'it', 'were', 'three', 'dimensional', 'representations', 'of', 'his', 'four', 'dimensioned', 'being', 'which', 'is', 'a', 'fixed', 'and', 'unalterable', 'thing', 'scientific', 'people', 'proceeded', 'the', 'time', 'traveller', 'after', 'the', 'pause', 'required', 'for', 'the', 'proper', 'assimilation', 'of', 'this', 'know', 'very', 'well', 'that', 'time', 'is', 'only', 'a', 'kind', 'of', 'space', 'here', 'is', 'a', 'popular', 'scientific', 'diagram', 'a', 'weather', 'record', 'this', 'line', 'i', 'trace', 'with', 'my', 'finger', 'shows', 'the', 'movement', 'of', 'the', 'barometer', 'yesterday', 'it', 'was', 'so', 'high', 'yesterday', 'night', 'it', 'fell', 'then', 'this', 'morning', 'it', 'rose', 'again', 'and', 'so', 'gently', 'upward', 'to', 'here', 'surely', 'the', 'mercury', 'did', 'not', 'trace', 'this', 'line', 'in', 'any', 'of', 'the', 'dimensions', 'of', 'space', 'generally', 'recognised', 'but', 'certainly', 'it', 'traced', 'such', 'a', 'line', 'and', 'that', 'line', 'therefore', 'we', 'must', 'conclude', 'was', 'along', 'the', 'time', 'dimension', 'but', 'said', 'the', 'medical', 'man', 'staring', 'hard', 'at', 'a', 'coal', 'in', 'the', 'fire', 'if', 'time', 'is', 'really', 'only', 'a', 'fourth', 'dimension', 'of', 'space', 'why', 'is', 'it', 'and', 'why', 'has', 'it', 'always', 'been', 'regarded', 'as', 'something', 'different', 'and', 'why', 'cannot', 'we', 'move', 'in', 'time', 'as', 'we', 'move', 'about', 'in', 'the', 'other', 'dimensions', 'of', 'space', 'the', 'time', 'traveller', 'smiled', 'are', 'you', 'so', 'sure', 'we', 'can', 'move', 'freely', 'in', 'space', 'right', 'and', 'left', 'we', 'can', 'go', 'backward', 'and', 'forward', 'freely', 'enough', 'and', 'men', 'always', 'have', 'done', 'so', 'i', 'admit', 'we', 'move', 'freely', 'in', 'two', 'dimensions', 'but', 'how', 'about', 'up', 'and', 'down', 'gravitation', 'limits', 'us', 'there', 'not', 'exactly', 'said', 'the', 'medical', 'man', 'there', 'are', 'balloons', 'but', 'before', 'the', 'balloons', 'save', 'for', 'spasmodic', 'jumping', 'and', 'the', 'inequalities', 'of', 'the', 'surface', 'man', 'had', 'no', 'freedom', 'of', 'vertical', 'movement', 'still', 'they', 'could', 'move', 'a', 'little', 'up', 'and', 'down', 'said', 'the', 'medical', 'man', 'easier', 'far', 'easier', 'down', 'than', 'up', 'and', 'you', 'cannot', 'move', 'at', 'all', 'in', 'time', 'you', 'cannot', 'get', 'away', 'from', 'the', 'present', 'moment', 'my', 'dear', 'sir', 'that', 'is', 'just', 'where', 'you', 'are', 'wrong', 'that', 'is', 'just', 'where', 'the', 'whole', 'world', 'has', 'gone', 'wrong', 'we', 'are', 'always', 'getting', 'away', 'from', 'the', 'present', 'moment', 'our', 'mental', 'existences', 'which', 'are', 'immaterial', 'and', 'have', 'no', 'dimensions', 'are', 'passing', 'along', 'the', 'time', 'dimension', 'with', 'a', 'uniform', 'velocity', 'from', 'the', 'cradle', 'to', 'the', 'grave', 'just', 'as', 'we', 'should', 'travel', 'down', 'if', 'we', 'began', 'our', 'existence', 'fifty', 'miles', 'above', 'the', 'earth', 's', 'surface', 'but', 'the', 'great', 'difficulty', 'is', 'this', 'interrupted', 'the', 'psychologist', 'you', 'can', 'move', 'about', 'in', 'all', 'directions', 'of', 'space', 'but', 'you', 'cannot', 'move', 'about', 'in', 'time', 'that', 'is', 'the', 'germ', 'of', 'my', 'great', 'discovery', 'but', 'you', 'are', 'wrong', 'to', 'say', 'that', 'we', 'cannot', 'move', 'about', 'in', 'time', 'for', 'instance', 'if', 'i', 'am', 'recalling', 'an', 'incident', 'very', 'vividly', 'i', 'go', 'back', 'to', 'the', 'instant', 'of', 'its', 'occurrence', 'i', 'become', 'absent', 'minded', 'as', 'you', 'say', 'i', 'jump', 'back', 'for', 'a', 'moment', 'of', 'course', 'we', 'have', 'no', 'means', 'of', 'staying', 'back', 'for', 'any', 'length', 'of', 'time', 'any', 'more', 'than', 'a', 'savage', 'or', 'an', 'animal', 'has', 'of', 'staying', 'six', 'feet', 'above', 'the', 'ground', 'but', 'a', 'civilised', 'man', 'is', 'better', 'off', 'than', 'the', 'savage', 'in', 'this', 'respect', 'he', 'can', 'go', 'up', 'against', 'gravitation', 'in', 'a', 'balloon', 'and', 'why', 'should', 'he', 'not', 'hope', 'that', 'ultimately', 'he', 'may', 'be', 'able', 'to', 'stop', 'or', 'accelerate', 'his', 'drift', 'along', 'the', 'time', 'dimension', 'or', 'even', 'turn', 'about', 'and', 'travel', 'the', 'other', 'way', 'oh', 'this', 'began', 'filby', 'is', 'all', 'why', 'not', 'said', 'the', 'time', 'traveller', 'it', 's', 'against', 'reason', 'said', 'filby', 'what', 'reason', 'said', 'the', 'time', 'traveller', 'you', 'can', 'show', 'black', 'is', 'white', 'by', 'argument', 'said', 'filby', 'but', 'you', 'will', 'never', 'convince', 'me', 'possibly', 'not', 'said', 'the', 'time', 'traveller', 'but', 'now', 'you', 'begin', 'to', 'see', 'the', 'object', 'of', 'my', 'investigations', 'into', 'the', 'geometry', 'of', 'four', 'dimensions', 'long', 'ago', 'i', 'had', 'a', 'vague', 'inkling', 'of', 'a', 'machine', 'to', 'travel', 'through', 'time', 'exclaimed', 'the', 'very', 'young', 'man', 'that', 'shall', 'travel', 'indifferently', 'in', 'any', 'direction', 'of', 'space', 'and', 'time', 'as', 'the', 'driver', 'determines', 'filby', 'contented', 'himself', 'with', 'laughter', 'but', 'i', 'have', 'experimental', 'verification', 'said', 'the', 'time', 'traveller', 'it', 'would', 'be', 'remarkably', 'convenient', 'for', 'the', 'historian', 'the', 'psychologist', 'suggested', 'one', 'might', 'travel', 'back', 'and', 'verify', 'the', 'accepted', 'account', 'of', 'the', 'battle', 'of', 'hastings', 'for', 'instance', 'don', 't', 'you', 'think', 'you', 'would', 'attract', 'attention', 'said', 'the', 'medical', 'man', 'our', 'ancestors', 'had', 'no', 'great', 'tolerance', 'for', 'anachronisms', 'one', 'might', 'get', 'one', 's', 'greek', 'from', 'the', 'very', 'lips', 'of', 'homer', 'and', 'plato', 'the', 'very', 'young', 'man', 'thought', 'in', 'which', 'case', 'they', 'would', 'certainly', 'plough', 'you', 'for', 'the', 'little', 'go', 'the', 'german', 'scholars', 'have', 'improved', 'greek', 'so', 'much', 'then', 'there', 'is', 'the', 'future', 'said', 'the', 'very', 'young', 'man', 'just', 'think', 'one', 'might', 'invest', 'all', 'one', 's', 'money', 'leave', 'it', 'to', 'accumulate', 'at', 'interest', 'and', 'hurry', 'on', 'ahead', 'to', 'discover', 'a', 'society', 'said', 'i', 'erected', 'on', 'a', 'strictly', 'communistic', 'basis', 'of', 'all', 'the', 'wild', 'extravagant', 'theories', 'began', 'the', 'psychologist', 'yes', 'so', 'it', 'seemed', 'to', 'me', 'and', 'so', 'i', 'never', 'talked', 'of', 'it', 'until', 'experimental', 'verification', 'cried', 'i', 'you', 'are', 'going', 'to', 'verify', 'that', 'the', 'experiment', 'cried', 'filby', 'who', 'was', 'getting', 'brain', 'weary', 'let', 's', 'see', 'your', 'experiment', 'anyhow', 'said', 'the', 'psychologist', 'though', 'it', 's', 'all', 'humbug', 'you', 'know', 'the', 'time', 'traveller', 'smiled', 'round', 'at', 'us', 'then', 'still', 'smiling', 'faintly', 'and', 'with', 'his', 'hands', 'deep', 'in', 'his', 'trousers', 'pockets', 'he', 'walked', 'slowly', 'out', 'of', 'the', 'room', 'and', 'we', 'heard', 'his', 'slippers', 'shuffling', 'down', 'the', 'long', 'passage', 'to', 'his', 'laboratory', 'the', 'psychologist', 'looked', 'at', 'us', 'i', 'wonder', 'what', 'he', 's', 'got', 'some', 'sleight', 'of', 'hand', 'trick', 'or', 'other', 'said', 'the', 'medical', 'man', 'and', 'filby', 'tried', 'to', 'tell', 'us', 'about', 'a', 'conjuror', 'he', 'had', 'seen', 'at', 'burslem', 'but', 'before', 'he', 'had', 'finished', 'his', 'preface', 'the', 'time', 'traveller', 'came', 'back', 'and', 'filby', 's', 'anecdote', 'collapsed', 'ii', 'the', 'machine', 'the', 'thing', 'the', 'time', 'traveller', 'held', 'in', 'his', 'hand', 'was', 'a', 'glittering', 'metallic', 'framework', 'scarcely', 'larger', 'than', 'a', 'small', 'clock', 'and', 'very', 'delicately', 'made', 'there', 'was', 'ivory', 'in', 'it', 'and', 'some', 'transparent', 'crystalline', 'substance', 'and', 'now', 'i', 'must', 'be', 'explicit', 'for', 'this', 'that', 'follows', 'unless', 'his', 'explanation', 'is', 'to', 'be', 'accepted', 'is', 'an', 'absolutely', 'unaccountable', 'thing', 'he', 'took', 'one', 'of', 'the', 'small', 'octagonal', 'tables', 'that', 'were', 'scattered', 'about', 'the', 'room', 'and', 'set', 'it', 'in', 'front', 'of', 'the', 'fire', 'with', 'two', 'legs', 'on']\n",
      "36019\n"
     ]
    }
   ],
   "source": [
    "def read_time_machine():\n",
    "    with open('./time_machine.txt', 'r') as f:\n",
    "        lines = f.readlines()\n",
    "    format_lines = [re.sub('[^A-Za-z]', ' ', line).strip().lower() for line in lines]\n",
    "    lines = [line for line in format_lines if len(line)>0]\n",
    "    return lines\n",
    "\n",
    "\n",
    "def tokenizer(data,method='word'):\n",
    "    ret = []\n",
    "    if method=='word':\n",
    "        for line in data:\n",
    "            ret.extend(line.split())\n",
    "        return ret\n",
    "    elif method=='char':\n",
    "        for line in data:\n",
    "            ret.extend([i for i in line])\n",
    "        return ret\n",
    "\n",
    "\n",
    "def count_corpus(tokens):\n",
    "    if len(tokens) == 0 or isinstance(tokens[0], list):\n",
    "        tokens = [token for line in tokens for token in line]\n",
    "    return collections.Counter(tokens)\n",
    "\n",
    "time_machine_token = tokenizer(read_time_machine(),'word')\n",
    "print(time_machine_token[:2000])\n",
    "print(len(time_machine_token))"
   ]
  },
  {
   "cell_type": "code",
   "execution_count": 4,
   "metadata": {},
   "outputs": [],
   "source": [
    "class Vocab():\n",
    "    def __init__(self,tokens,min_frequence=0,reserved_tokens=None):\n",
    "        if tokens is None:\n",
    "            tokens = []\n",
    "        if reserved_tokens is None:\n",
    "            reserved_tokens = []\n",
    "        counter = count_corpus(tokens)\n",
    "        self.__token_freq = sorted(counter.items(),key=lambda x:x[1],reverse=True)\n",
    "        self.index_to_token = ['<unk>'] + reserved_tokens\n",
    "        self.unk = 0\n",
    "        self.token_to_index = {token:idx for idx,token in enumerate(self.index_to_token)}\n",
    "        for token,freq in self.token_freq:\n",
    "            if freq <min_frequence:\n",
    "                break\n",
    "            if token not in self.index_to_token:\n",
    "                self.index_to_token.append(token)\n",
    "                self.token_to_index[token] = len(self.index_to_token) - 1\n",
    "    \n",
    "    def __len__(self):\n",
    "        return len(self.index_to_token)\n",
    "    \n",
    "    def to_index(self,tokens):\n",
    "        if not isinstance(tokens,(list,tuple)):\n",
    "            return self.token_to_index.get(tokens,self.unk)\n",
    "        return [self.to_index(token) for token in tokens]\n",
    "\n",
    "    def to_token(self,indices):\n",
    "        if not isinstance(indices,(tuple,list)):\n",
    "            return self.index_to_token[indices]\n",
    "        return [self.to_token(index) for index in indices]\n",
    "\n",
    "    @property\n",
    "    def token_freq(self):\n",
    "        return self.__token_freq\n",
    "\n",
    "time_machine_corpus = Vocab(time_machine_token)"
   ]
  },
  {
   "cell_type": "code",
   "execution_count": 5,
   "metadata": {},
   "outputs": [],
   "source": [
    "# paired_token = [pair for pair in zip(time_machine_token[:-1],time_machine_token[1:])]\n",
    "# paired_corpus = Vocab(paired_token)\n",
    "# for i in range(10):\n",
    "#     print(paired_corpus.token_freq[i])\n",
    "\n",
    "# tri_token = [pair for pair in zip(time_machine_token[:-2],time_machine_token[1:-1],time_machine_token[2:])]\n",
    "# tri_corpus = Vocab(tri_token)\n",
    "# for i in range(10):\n",
    "#     print(tri_corpus.token_freq[i])"
   ]
  },
  {
   "cell_type": "code",
   "execution_count": 6,
   "metadata": {},
   "outputs": [],
   "source": [
    "# fig,axes = plt.subplots(2,2)\n",
    "# x = [i for i in range(len(time_machine_corpus)-1)]\n",
    "# y = [time_machine_corpus.token_freq[j][1] for j in x]\n",
    "# print(y)\n",
    "# print(time_machine_corpus.token_freq)\n",
    "# axes[0][0].plot(x,x)\n",
    "# axes[0][1].plot(x,y)\n",
    "# axes[1][1].plot(x,y)\n",
    "# axes[1][1].semilogx()\n",
    "# axes[1][1].semilogy()\n",
    "# plt.show()"
   ]
  },
  {
   "cell_type": "code",
   "execution_count": 7,
   "metadata": {},
   "outputs": [],
   "source": [
    "def seq_data_iter_random(corpus, batch_size, num_steps):\n",
    "    corpus = corpus[random.randint(0, num_steps - 1):]\n",
    "    num_subseqs = (len(corpus)-1) // num_steps\n",
    "    initial_indices = list(range(0, num_subseqs * num_steps, num_steps))\n",
    "    random.shuffle(initial_indices)\n",
    "\n",
    "    def data(pos):\n",
    "        return corpus[pos: pos + num_steps]\n",
    "    \n",
    "    num_batches = num_subseqs // batch_size\n",
    "    for i in range(0, batch_size * num_batches, batch_size):\n",
    "        initial_indices_per_batch = initial_indices[i: i + batch_size]\n",
    "        X = [data(j) for j in initial_indices_per_batch]\n",
    "        Y = [data(j + 1) for j in initial_indices_per_batch]\n",
    "        yield torch.tensor(X), torch.tensor(Y)\n",
    "\n",
    "\n",
    "def seq_data_iter_sequential(corpus, batch_size, num_steps):\n",
    "    offset = random.randint(0, num_steps - 1)\n",
    "    num_tokens = ((len(corpus) - offset - 1) // batch_size) * batch_size\n",
    "    Xs = torch.tensor(corpus[offset: offset + num_tokens])\n",
    "    Ys = torch.tensor(corpus[offset + 1: offset + 1 + num_tokens])\n",
    "    Xs, Ys = Xs.reshape(batch_size, -1), Ys.reshape(batch_size, -1)\n",
    "    num_batches = Xs.shape[1] // num_steps\n",
    "    for i in range(0, num_steps * num_batches, num_steps):\n",
    "        X = Xs[:, i: i + num_steps]\n",
    "        Y = Ys[:, i: i + num_steps]\n",
    "        yield X, Y"
   ]
  },
  {
   "cell_type": "code",
   "execution_count": 8,
   "metadata": {},
   "outputs": [
    {
     "name": "stdout",
     "output_type": "stream",
     "text": [
      "[['good', 'for', 'he', 'looked', 'round', 'the', 'table', 'and', 'the', 'ghost'], ['like', 'children', 'they', 'would', 'soon', 'stop', 'examining', 'me', 'and', 'wander'], ['medical', 'man', 'seemed', 'absorbed', 'in', 'the', 'contemplation', 'of', 'our', 'host'], ['as', 'they', 'hurried', 'after', 'me', 'in', 'a', 'moment', 'i', 'was'], ['his', 'eye', 'fell', 'with', 'a', 'mute', 'inquiry', 'upon', 'the', 'withered'], ['author', 'h', 'g', 'wells', 'release', 'date', 'july', 'ebook', 'most', 'recently'], ['odour', 'of', 'camphor', 'was', 'unmistakable', 'in', 'the', 'universal', 'decay', 'this'], ['a', 'tangled', 'waste', 'of', 'beautiful', 'bushes', 'and', 'flowers', 'a', 'long'], ['being', 'on', 'easy', 'terms', 'in', 'the', 'house', 'i', 'went', 'up'], ['the', 'sky', 'was', 'no', 'longer', 'blue', 'north', 'eastward', 'it', 'was'], ['permission', 'for', 'the', 'use', 'of', 'the', 'work', 'and', 'the', 'project'], ['feet', 'running', 'and', 'stumbling', 'this', 'way', 'and', 'that', 'i', 'do'], ['salt', 'ocean', 'all', 'bloody', 'under', 'the', 'eternal', 'sunset', 'was', 'still'], ['and', 'murmur', 'of', 'a', 'great', 'company', 'she', 'seemed', 'to', 'have'], ['you', 'will', 'never', 'convince', 'me', 'possibly', 'not', 'said', 'the', 'time'], ['i', 'hoped', 'to', 'find', 'my', 'bar', 'of', 'iron', 'not', 'altogether'], ['the', 'shafts', 'of', 'the', 'sun', 'smote', 'through', 'the', 'thunderstorm', 'the'], ['licking', 'up', 'my', 'heap', 'of', 'wood', 'were', 'an', 'altogether', 'new'], ['lay', 'unfinished', 'upon', 'the', 'bench', 'beside', 'some', 'sheets', 'of', 'drawings'], ['the', 'conditions', 'under', 'which', 'it', 'lived', 'the', 'flourish', 'of', 'that']] \n",
      " [['for', 'he', 'looked', 'round', 'the', 'table', 'and', 'the', 'ghost', 'of'], ['children', 'they', 'would', 'soon', 'stop', 'examining', 'me', 'and', 'wander', 'away'], ['man', 'seemed', 'absorbed', 'in', 'the', 'contemplation', 'of', 'our', 'host', 'the'], ['they', 'hurried', 'after', 'me', 'in', 'a', 'moment', 'i', 'was', 'clutched'], ['eye', 'fell', 'with', 'a', 'mute', 'inquiry', 'upon', 'the', 'withered', 'white'], ['h', 'g', 'wells', 'release', 'date', 'july', 'ebook', 'most', 'recently', 'updated'], ['of', 'camphor', 'was', 'unmistakable', 'in', 'the', 'universal', 'decay', 'this', 'volatile'], ['tangled', 'waste', 'of', 'beautiful', 'bushes', 'and', 'flowers', 'a', 'long', 'neglected'], ['on', 'easy', 'terms', 'in', 'the', 'house', 'i', 'went', 'up', 'to'], ['sky', 'was', 'no', 'longer', 'blue', 'north', 'eastward', 'it', 'was', 'inky'], ['for', 'the', 'use', 'of', 'the', 'work', 'and', 'the', 'project', 'gutenberg'], ['running', 'and', 'stumbling', 'this', 'way', 'and', 'that', 'i', 'do', 'not'], ['ocean', 'all', 'bloody', 'under', 'the', 'eternal', 'sunset', 'was', 'still', 'unfrozen'], ['murmur', 'of', 'a', 'great', 'company', 'she', 'seemed', 'to', 'have', 'fainted'], ['will', 'never', 'convince', 'me', 'possibly', 'not', 'said', 'the', 'time', 'traveller'], ['hoped', 'to', 'find', 'my', 'bar', 'of', 'iron', 'not', 'altogether', 'inadequate'], ['shafts', 'of', 'the', 'sun', 'smote', 'through', 'the', 'thunderstorm', 'the', 'grey'], ['up', 'my', 'heap', 'of', 'wood', 'were', 'an', 'altogether', 'new', 'and'], ['unfinished', 'upon', 'the', 'bench', 'beside', 'some', 'sheets', 'of', 'drawings', 'and'], ['conditions', 'under', 'which', 'it', 'lived', 'the', 'flourish', 'of', 'that', 'triumph']]\n",
      "\n",
      "[['good', 'like', 'medical', 'as', 'his', 'author', 'odour', 'a', 'being', 'the', 'permission', 'feet', 'salt', 'and', 'you', 'i', 'the', 'licking', 'lay', 'the'], ['for', 'children', 'man', 'they', 'eye', 'h', 'of', 'tangled', 'on', 'sky', 'for', 'running', 'ocean', 'murmur', 'will', 'hoped', 'shafts', 'up', 'unfinished', 'conditions'], ['he', 'they', 'seemed', 'hurried', 'fell', 'g', 'camphor', 'waste', 'easy', 'was', 'the', 'and', 'all', 'of', 'never', 'to', 'of', 'my', 'upon', 'under'], ['looked', 'would', 'absorbed', 'after', 'with', 'wells', 'was', 'of', 'terms', 'no', 'use', 'stumbling', 'bloody', 'a', 'convince', 'find', 'the', 'heap', 'the', 'which'], ['round', 'soon', 'in', 'me', 'a', 'release', 'unmistakable', 'beautiful', 'in', 'longer', 'of', 'this', 'under', 'great', 'me', 'my', 'sun', 'of', 'bench', 'it'], ['the', 'stop', 'the', 'in', 'mute', 'date', 'in', 'bushes', 'the', 'blue', 'the', 'way', 'the', 'company', 'possibly', 'bar', 'smote', 'wood', 'beside', 'lived'], ['table', 'examining', 'contemplation', 'a', 'inquiry', 'july', 'the', 'and', 'house', 'north', 'work', 'and', 'eternal', 'she', 'not', 'of', 'through', 'were', 'some', 'the'], ['and', 'me', 'of', 'moment', 'upon', 'ebook', 'universal', 'flowers', 'i', 'eastward', 'and', 'that', 'sunset', 'seemed', 'said', 'iron', 'the', 'an', 'sheets', 'flourish'], ['the', 'and', 'our', 'i', 'the', 'most', 'decay', 'a', 'went', 'it', 'the', 'i', 'was', 'to', 'the', 'not', 'thunderstorm', 'altogether', 'of', 'of'], ['ghost', 'wander', 'host', 'was', 'withered', 'recently', 'this', 'long', 'up', 'was', 'project', 'do', 'still', 'have', 'time', 'altogether', 'the', 'new', 'drawings', 'that']] \n",
      " [['for', 'children', 'man', 'they', 'eye', 'h', 'of', 'tangled', 'on', 'sky', 'for', 'running', 'ocean', 'murmur', 'will', 'hoped', 'shafts', 'up', 'unfinished', 'conditions'], ['he', 'they', 'seemed', 'hurried', 'fell', 'g', 'camphor', 'waste', 'easy', 'was', 'the', 'and', 'all', 'of', 'never', 'to', 'of', 'my', 'upon', 'under'], ['looked', 'would', 'absorbed', 'after', 'with', 'wells', 'was', 'of', 'terms', 'no', 'use', 'stumbling', 'bloody', 'a', 'convince', 'find', 'the', 'heap', 'the', 'which'], ['round', 'soon', 'in', 'me', 'a', 'release', 'unmistakable', 'beautiful', 'in', 'longer', 'of', 'this', 'under', 'great', 'me', 'my', 'sun', 'of', 'bench', 'it'], ['the', 'stop', 'the', 'in', 'mute', 'date', 'in', 'bushes', 'the', 'blue', 'the', 'way', 'the', 'company', 'possibly', 'bar', 'smote', 'wood', 'beside', 'lived'], ['table', 'examining', 'contemplation', 'a', 'inquiry', 'july', 'the', 'and', 'house', 'north', 'work', 'and', 'eternal', 'she', 'not', 'of', 'through', 'were', 'some', 'the'], ['and', 'me', 'of', 'moment', 'upon', 'ebook', 'universal', 'flowers', 'i', 'eastward', 'and', 'that', 'sunset', 'seemed', 'said', 'iron', 'the', 'an', 'sheets', 'flourish'], ['the', 'and', 'our', 'i', 'the', 'most', 'decay', 'a', 'went', 'it', 'the', 'i', 'was', 'to', 'the', 'not', 'thunderstorm', 'altogether', 'of', 'of'], ['ghost', 'wander', 'host', 'was', 'withered', 'recently', 'this', 'long', 'up', 'was', 'project', 'do', 'still', 'have', 'time', 'altogether', 'the', 'new', 'drawings', 'that'], ['of', 'away', 'the', 'clutched', 'white', 'updated', 'volatile', 'neglected', 'to', 'inky', 'gutenberg', 'not', 'unfrozen', 'fainted', 'traveller', 'inadequate', 'grey', 'and', 'and', 'triumph']]\n",
      "torch.Size([20, 10]) \n",
      " torch.Size([20, 10])\n"
     ]
    }
   ],
   "source": [
    "class SeqDataLoader:\n",
    "    def __init__(self, token ,batch_size, num_steps, use_random_iter):\n",
    "        if use_random_iter:\n",
    "            self.data_iter_fn = seq_data_iter_random\n",
    "        else:\n",
    "            self.data_iter_fn = seq_data_iter_sequential\n",
    "        self.batch_size, self.num_steps = batch_size, num_steps\n",
    "        self.token_index = time_machine_corpus.to_index(token)\n",
    "\n",
    "\n",
    "    def __iter__(self):\n",
    "        return self.data_iter_fn(self.token_index, self.batch_size, self.num_steps)\n",
    "    \n",
    "    def __len__(self):\n",
    "        return len(self.token_index)\n",
    "    \n",
    "data_iter = SeqDataLoader(time_machine_token,batch_size=args.batch_size,num_steps=args.num_steps,use_random_iter=True)\n",
    "for i,j in data_iter:\n",
    "    print(time_machine_corpus.to_token(i.detach().numpy().tolist()),'\\n',time_machine_corpus.to_token(j.detach().numpy().tolist()))\n",
    "    print()\n",
    "    print(time_machine_corpus.to_token(i.T.detach().numpy().tolist()),'\\n',time_machine_corpus.to_token(j.T.detach().numpy().tolist()))\n",
    "    print(i.shape,'\\n',j.shape)\n",
    "    break"
   ]
  },
  {
   "cell_type": "code",
   "execution_count": 9,
   "metadata": {},
   "outputs": [],
   "source": [
    "def grad_clipping(net, theta):\n",
    "    if isinstance(net, nn.Module):\n",
    "        params = [p for p in net.parameters() if p.requires_grad]\n",
    "    else:\n",
    "        params = net.params\n",
    "    norm = torch.sqrt(sum(torch.sum((p.grad ** 2)) for p in params))\n",
    "    if norm > theta:\n",
    "        for param in params:\n",
    "            param.grad[:] *= theta / norm"
   ]
  },
  {
   "cell_type": "code",
   "execution_count": 10,
   "metadata": {},
   "outputs": [],
   "source": [
    "class RNNModel(nn.Module):\n",
    "    def __init__(self, rnn_layer, vocab_size, **kwargs):\n",
    "        super(RNNModel, self).__init__(**kwargs)\n",
    "        self.rnn = rnn_layer\n",
    "        self.vocab_size = vocab_size\n",
    "        self.num_hiddens = self.rnn.hidden_size\n",
    "        if not self.rnn.bidirectional:\n",
    "            self.num_directions = 1\n",
    "            self.linear = nn.Linear(self.num_hiddens, self.vocab_size)\n",
    "        else:\n",
    "            self.num_directions = 2\n",
    "            self.linear = nn.Linear(self.num_hiddens * 2, self.vocab_size)\n",
    "\n",
    "    def forward(self, inputs, state):\n",
    "        X = F.one_hot(inputs.T.long(), self.vocab_size)\n",
    "        X = X.to(torch.float32)\n",
    "        Y, state = self.rnn(X, state)\n",
    "        output = self.linear(Y.reshape((-1, Y.shape[-1])))\n",
    "        return output, state\n",
    "\n",
    "    def begin_state(self, device, batch_size=1):\n",
    "        if not isinstance(self.rnn, nn.LSTM):\n",
    "            # nn.GRU以张量作为隐状态\n",
    "            return  torch.zeros((self.num_directions * self.rnn.num_layers,\n",
    "                                 batch_size, self.num_hiddens),\n",
    "                                device=device)\n",
    "        else:\n",
    "            # nn.LSTM以元组作为隐状态\n",
    "            return (torch.zeros((\n",
    "                self.num_directions * self.rnn.num_layers,\n",
    "                batch_size, self.num_hiddens), device=device),\n",
    "                    torch.zeros((\n",
    "                self.num_directions * self.rnn.num_layers,\n",
    "                batch_size, self.num_hiddens), device=device))\n",
    "        \n",
    "num_hiddens = args.num_hiddens\n",
    "rnn_layer = nn.RNN(len(time_machine_corpus), num_hiddens)\n",
    "rnn_net = RNNModel(rnn_layer=rnn_layer,vocab_size=len(time_machine_corpus))"
   ]
  },
  {
   "cell_type": "code",
   "execution_count": 11,
   "metadata": {},
   "outputs": [],
   "source": [
    "def predict(prefix, num_preds, net, vocab, device):\n",
    "    net.to(device)\n",
    "    state = net.begin_state(batch_size=1, device=device)\n",
    "    outputs = [vocab.to_index(prefix[0])]\n",
    "    get_input = lambda: torch.tensor([outputs[-1]], device=device).reshape((1, 1))\n",
    "    for y in prefix[1:]:  # 预热期\n",
    "        _, state = net(get_input(), state)\n",
    "        outputs.append(vocab.to_index(y))\n",
    "    for _ in range(num_preds):  # 预测num_preds步\n",
    "        y, state = net(get_input(), state)\n",
    "        outputs.append(int(y.argmax(dim=1).reshape(1)))\n",
    "    return ' '.join([vocab.to_token(i) for i in outputs])\n",
    "\n",
    "\n",
    "def train_epoch(net, train_iter, loss, updater, device, use_random_iter):\n",
    "    state =  None\n",
    "    for X, Y in train_iter:\n",
    "        if state is None or use_random_iter:\n",
    "            state = net.begin_state(batch_size=X.shape[0], device=device)\n",
    "        else:\n",
    "            if isinstance(net, nn.Module) and not isinstance(state, tuple):\n",
    "                # state对于nn.GRU是个张量\n",
    "                state.detach_()\n",
    "            else:\n",
    "                # state对于nn.LSTM或对于我们从零开始实现的模型是个张量\n",
    "                for s in state:\n",
    "                    s.detach_()\n",
    "        y = Y.T.reshape(-1)\n",
    "        X, y = X.to(device), y.to(device)\n",
    "        y_hat, state = net(X, state)\n",
    "        l = loss(y_hat, y.long()).mean()\n",
    "\n",
    "        updater.zero_grad()\n",
    "        l.backward()\n",
    "        grad_clipping(net, 1)\n",
    "        updater.step()\n",
    "        loss_num = float(l.detach().cpu().numpy())\n",
    "        train_iter.set_postfix_str(f'loss:{loss_num:.3f}')\n",
    "\n",
    "\n",
    "def trainer(net, train_iter, vocab, lr, num_epochs, device, use_random_iter=False):\n",
    "    loss = nn.CrossEntropyLoss()\n",
    "    updater = torch.optim.SGD(net.parameters(), lr)\n",
    "    predict_fn = lambda prefix: predict(prefix, 100, net, vocab, device)\n",
    "    net.to(device)\n",
    "    # 训练和预测\n",
    "    for epoch in range(num_epochs):\n",
    "        bar = tqdm(train_iter,total=len(train_iter)/(args.batch_size*args.num_steps),unit_scale=args.batch_size*args.num_steps)\n",
    "        bar.set_description_str(f'[epoch:{epoch+1}/{num_epochs}]')\n",
    "        train_epoch(net, bar, loss, updater, device, use_random_iter)\n",
    "        if (epoch + 1) % 10 == 0:\n",
    "            print(predict_fn(['traveller']))\n",
    "    print(predict_fn(['traveller']))\n",
    "    print(predict_fn(['traveller']))"
   ]
  },
  {
   "cell_type": "code",
   "execution_count": 12,
   "metadata": {},
   "outputs": [
    {
     "data": {
      "text/plain": [
       "'t <unk> a v e <unk> <unk> e <unk> merriment dried dried white slightness g weary white g consoled problems before arrears dried dried dried dried white white g suggestive problems before arrears dried dried dried dried white white g suggestive problems before arrears dried dried dried dried white white g suggestive problems before arrears dried dried dried dried white white g suggestive problems before arrears dried dried dried dried white white g suggestive problems before arrears dried dried dried dried white white g suggestive problems before arrears dried dried dried dried white white g suggestive problems before arrears dried dried dried dried white white g suggestive problems before'"
      ]
     },
     "execution_count": 12,
     "metadata": {},
     "output_type": "execute_result"
    }
   ],
   "source": [
    "predict('traveller',100,rnn_net,time_machine_corpus,args.device)"
   ]
  },
  {
   "cell_type": "code",
   "execution_count": 13,
   "metadata": {},
   "outputs": [
    {
     "name": "stderr",
     "output_type": "stream",
     "text": [
      "[epoch:1/500]: 100%|█████████▉| 36000/36019.0 [00:00<00:00, 39124.08it/s, loss:6.586]\n",
      "[epoch:2/500]: 100%|█████████▉| 36000/36019.0 [00:00<00:00, 67149.87it/s, loss:6.115]\n",
      "[epoch:3/500]: 100%|█████████▉| 36000/36019.0 [00:00<00:00, 61268.16it/s, loss:6.220]\n",
      "[epoch:4/500]: 100%|█████████▉| 36000/36019.0 [00:00<00:00, 63933.74it/s, loss:5.799]\n",
      "[epoch:5/500]: 100%|█████████▉| 36000/36019.0 [00:00<00:00, 60340.56it/s, loss:6.007]\n",
      "[epoch:6/500]: 100%|█████████▉| 36000/36019.0 [00:00<00:00, 67341.57it/s, loss:5.941]\n",
      "[epoch:7/500]: 100%|█████████▉| 36000/36019.0 [00:00<00:00, 67658.07it/s, loss:5.544]\n",
      "[epoch:8/500]: 100%|█████████▉| 36000/36019.0 [00:00<00:00, 67977.80it/s, loss:6.134]\n",
      "[epoch:9/500]: 100%|█████████▉| 36000/36019.0 [00:00<00:00, 66592.26it/s, loss:5.747]\n",
      "[epoch:10/500]: 100%|█████████▉| 36000/36019.0 [00:00<00:00, 64219.53it/s, loss:5.592]\n"
     ]
    },
    {
     "name": "stdout",
     "output_type": "stream",
     "text": [
      "traveller and the morlocks of the work and i had to the time machine and the foundation of the work and i had to the time machine was a little thing of the machine was in the time machine i had to see it was a little thing of the machine was in the time machine i had to see it was a little thing of the machine was in the time machine i had to see it was a little thing of the machine was in the time machine i had to see it was a little thing of the\n"
     ]
    },
    {
     "name": "stderr",
     "output_type": "stream",
     "text": [
      "[epoch:11/500]: 100%|█████████▉| 36000/36019.0 [00:00<00:00, 66166.56it/s, loss:5.464]\n",
      "[epoch:12/500]: 100%|█████████▉| 36000/36019.0 [00:00<00:00, 65923.30it/s, loss:5.159]\n",
      "[epoch:13/500]: 100%|█████████▉| 36000/36019.0 [00:00<00:00, 63819.95it/s, loss:5.548]\n",
      "[epoch:14/500]: 100%|█████████▉| 36000/36019.0 [00:00<00:00, 63090.77it/s, loss:5.383]\n",
      "[epoch:15/500]: 100%|█████████▉| 36000/36019.0 [00:00<00:00, 60903.50it/s, loss:5.299]\n",
      "[epoch:16/500]: 100%|█████████▉| 36000/36019.0 [00:00<00:00, 60748.30it/s, loss:5.348]\n",
      "[epoch:17/500]: 100%|█████████▉| 36000/36019.0 [00:00<00:00, 58056.49it/s, loss:5.450]\n",
      "[epoch:18/500]: 100%|█████████▉| 36000/36019.0 [00:00<00:00, 58909.61it/s, loss:5.437]\n",
      "[epoch:19/500]: 100%|█████████▉| 36000/36019.0 [00:00<00:00, 58529.07it/s, loss:5.169]\n",
      "[epoch:20/500]: 100%|█████████▉| 36000/36019.0 [00:00<00:00, 59791.64it/s, loss:4.827]\n"
     ]
    },
    {
     "name": "stdout",
     "output_type": "stream",
     "text": [
      "traveller of the world i had seen to the sun and the white of the time machine and i was a small of the white and the other of the time traveller s i was a small of the world and the other of the time traveller and i was a small of the white and i saw the time traveller was a little thing i saw a little of a sudden of a creature i could not a mere of a sudden of a creature i could not a mere of a sudden of a creature i could not a\n"
     ]
    },
    {
     "name": "stderr",
     "output_type": "stream",
     "text": [
      "[epoch:21/500]: 100%|█████████▉| 36000/36019.0 [00:00<00:00, 60750.45it/s, loss:4.868]\n",
      "[epoch:22/500]: 100%|█████████▉| 36000/36019.0 [00:00<00:00, 59693.55it/s, loss:4.931]\n",
      "[epoch:23/500]: 100%|█████████▉| 36000/36019.0 [00:00<00:00, 60141.39it/s, loss:5.139]\n",
      "[epoch:24/500]: 100%|█████████▉| 36000/36019.0 [00:00<00:00, 58575.57it/s, loss:4.999]\n",
      "[epoch:25/500]: 100%|█████████▉| 36000/36019.0 [00:00<00:00, 59693.76it/s, loss:4.361]\n",
      "[epoch:26/500]: 100%|█████████▉| 36000/36019.0 [00:00<00:00, 61161.96it/s, loss:4.724]\n",
      "[epoch:27/500]: 100%|█████████▉| 36000/36019.0 [00:00<00:00, 57044.30it/s, loss:4.531]\n",
      "[epoch:28/500]: 100%|█████████▉| 36000/36019.0 [00:00<00:00, 58959.69it/s, loss:4.373]\n",
      "[epoch:29/500]: 100%|█████████▉| 36000/36019.0 [00:00<00:00, 61267.46it/s, loss:4.992]\n",
      "[epoch:30/500]: 100%|█████████▉| 36000/36019.0 [00:00<00:00, 59792.73it/s, loss:4.734]\n"
     ]
    },
    {
     "name": "stdout",
     "output_type": "stream",
     "text": [
      "traveller and the same of the day and the door of the well i had been to the sun of the white sphinx i saw the mechanism of the machine i had been to the sun of the white sphinx i saw that the time traveller of his hand and the door of the sun i had been to the sun of the white sphinx i saw the mechanism of the machine i had been to the sun of the white sphinx i saw that the time traveller of his hand and the door of the sun i had been to\n"
     ]
    },
    {
     "name": "stderr",
     "output_type": "stream",
     "text": [
      "[epoch:31/500]: 100%|█████████▉| 36000/36019.0 [00:00<00:00, 58709.99it/s, loss:4.464]\n",
      "[epoch:32/500]: 100%|█████████▉| 36000/36019.0 [00:00<00:00, 59643.35it/s, loss:4.542]\n",
      "[epoch:33/500]: 100%|█████████▉| 36000/36019.0 [00:00<00:00, 61112.48it/s, loss:4.309]\n",
      "[epoch:34/500]: 100%|█████████▉| 36000/36019.0 [00:00<00:00, 58863.36it/s, loss:4.630]\n",
      "[epoch:35/500]: 100%|█████████▉| 36000/36019.0 [00:00<00:00, 58150.01it/s, loss:3.794]\n",
      "[epoch:36/500]: 100%|█████████▉| 36000/36019.0 [00:00<00:00, 58479.84it/s, loss:4.228]\n",
      "[epoch:37/500]: 100%|█████████▉| 36000/36019.0 [00:00<00:00, 58670.48it/s, loss:4.160]\n",
      "[epoch:38/500]: 100%|█████████▉| 36000/36019.0 [00:00<00:00, 57270.07it/s, loss:4.012]\n",
      "[epoch:39/500]: 100%|█████████▉| 36000/36019.0 [00:00<00:00, 58671.12it/s, loss:4.607]\n",
      "[epoch:40/500]: 100%|█████████▉| 36000/36019.0 [00:00<00:00, 60597.54it/s, loss:3.967]\n"
     ]
    },
    {
     "name": "stdout",
     "output_type": "stream",
     "text": [
      "traveller s face the time traveller s long i had a small and i saw to a very open of the machine and the legs of the sun of the door and in the quiet of the world and the whole of nature a mere loophole of the little people in the united states the huge of the time machine and very little thing is a large and i saw the little table i saw a little thing i was to be the time traveller s return the time traveller s face the time traveller laughed to the ground i was\n"
     ]
    },
    {
     "name": "stderr",
     "output_type": "stream",
     "text": [
      "[epoch:41/500]: 100%|█████████▉| 36000/36019.0 [00:00<00:00, 58862.67it/s, loss:4.340]\n",
      "[epoch:42/500]: 100%|█████████▉| 36000/36019.0 [00:00<00:00, 59543.86it/s, loss:4.362]\n",
      "[epoch:43/500]: 100%|█████████▉| 36000/36019.0 [00:00<00:00, 60904.75it/s, loss:4.370]\n",
      "[epoch:44/500]: 100%|█████████▉| 36000/36019.0 [00:00<00:00, 61687.57it/s, loss:4.056]\n",
      "[epoch:45/500]: 100%|█████████▉| 36000/36019.0 [00:00<00:00, 59693.73it/s, loss:4.202]\n",
      "[epoch:46/500]: 100%|█████████▉| 36000/36019.0 [00:00<00:00, 59250.11it/s, loss:4.045]\n",
      "[epoch:47/500]: 100%|█████████▉| 36000/36019.0 [00:00<00:00, 59688.66it/s, loss:3.943]\n",
      "[epoch:48/500]: 100%|█████████▉| 36000/36019.0 [00:00<00:00, 61008.30it/s, loss:4.002]\n",
      "[epoch:49/500]: 100%|█████████▉| 36000/36019.0 [00:00<00:00, 60955.57it/s, loss:3.758]\n",
      "[epoch:50/500]: 100%|█████████▉| 36000/36019.0 [00:00<00:00, 60495.79it/s, loss:3.544]\n"
     ]
    },
    {
     "name": "stdout",
     "output_type": "stream",
     "text": [
      "traveller s return law and very little people i had no doubt and the machine i thought of the great pillars and one of the wood of the long i had a vague sense of the little people came to the project gutenberg literary archive foundation are you may use you are you you do you can attract you provide the terms of the project gutenberg tm trademark and c the trademark terms of the project gutenberg tm trademark e you may use you provide you you know you provide the terms of the project gutenberg tm trademark e you must\n"
     ]
    },
    {
     "name": "stderr",
     "output_type": "stream",
     "text": [
      "[epoch:51/500]: 100%|█████████▉| 36000/36019.0 [00:00<00:00, 60343.55it/s, loss:3.679]\n",
      "[epoch:52/500]: 100%|█████████▉| 36000/36019.0 [00:00<00:00, 60242.24it/s, loss:3.846]\n",
      "[epoch:53/500]: 100%|█████████▉| 36000/36019.0 [00:00<00:00, 61847.03it/s, loss:3.362]\n",
      "[epoch:54/500]: 100%|█████████▉| 36000/36019.0 [00:00<00:00, 59841.76it/s, loss:3.720]\n",
      "[epoch:55/500]: 100%|█████████▉| 36000/36019.0 [00:00<00:00, 61008.28it/s, loss:4.001]\n",
      "[epoch:56/500]: 100%|█████████▉| 36000/36019.0 [00:00<00:00, 59842.05it/s, loss:3.562]\n",
      "[epoch:57/500]: 100%|█████████▉| 36000/36019.0 [00:00<00:00, 58958.33it/s, loss:3.562]\n",
      "[epoch:58/500]: 100%|█████████▉| 36000/36019.0 [00:00<00:00, 59007.64it/s, loss:3.386]\n",
      "[epoch:59/500]: 100%|█████████▉| 36000/36019.0 [00:00<00:00, 60142.09it/s, loss:3.300]\n",
      "[epoch:60/500]: 100%|█████████▉| 36000/36019.0 [00:00<00:00, 61112.83it/s, loss:3.705]\n"
     ]
    },
    {
     "name": "stdout",
     "output_type": "stream",
     "text": [
      "traveller s return you he said the psychologist and your and the little people of the world i was a small problem i had seen my machine to the ground of my feet i had heard a half thing in the end of the sun i was very much and i had come to the sun of the white sphinx and the time traveller and then i looked into the smoking room the faint of the sun i was a small thing i had seen my arms for the time machine i had thought i was a nightmare and laughed it\n"
     ]
    },
    {
     "name": "stderr",
     "output_type": "stream",
     "text": [
      "[epoch:61/500]: 100%|█████████▉| 36000/36019.0 [00:00<00:00, 59792.07it/s, loss:3.633]\n",
      "[epoch:62/500]: 100%|█████████▉| 36000/36019.0 [00:00<00:00, 61267.83it/s, loss:3.595]\n",
      "[epoch:63/500]: 100%|█████████▉| 36000/36019.0 [00:00<00:00, 60752.16it/s, loss:3.882]\n",
      "[epoch:64/500]: 100%|█████████▉| 36000/36019.0 [00:00<00:00, 59494.28it/s, loss:3.786]\n",
      "[epoch:65/500]: 100%|█████████▉| 36000/36019.0 [00:00<00:00, 59941.44it/s, loss:3.469]\n",
      "[epoch:66/500]: 100%|█████████▉| 36000/36019.0 [00:00<00:00, 59496.37it/s, loss:3.494]\n",
      "[epoch:67/500]: 100%|█████████▉| 36000/36019.0 [00:00<00:00, 59544.47it/s, loss:3.373]\n",
      "[epoch:68/500]: 100%|█████████▉| 36000/36019.0 [00:00<00:00, 59892.10it/s, loss:3.616]\n",
      "[epoch:69/500]: 100%|█████████▉| 36000/36019.0 [00:00<00:00, 59521.44it/s, loss:3.261]\n",
      "[epoch:70/500]: 100%|█████████▉| 36000/36019.0 [00:00<00:00, 58291.13it/s, loss:3.479]\n"
     ]
    },
    {
     "name": "stdout",
     "output_type": "stream",
     "text": [
      "traveller s return and thither to each other and incredible the foundation was a very bright i saw the palace of the white sphinx on which i could not clearly said the medical man of the time machine and less was the psychologist of the sun was a long and the thing of hail of the thing i had seen to be living by boldly penetrating i felt like a schoolmaster of camphor and the thousands of the world i was to the wet i looked at last and then it came to the pedestal of the white sphinx and the\n"
     ]
    },
    {
     "name": "stderr",
     "output_type": "stream",
     "text": [
      "[epoch:71/500]: 100%|█████████▉| 36000/36019.0 [00:00<00:00, 60091.58it/s, loss:3.646]\n",
      "[epoch:72/500]: 100%|█████████▉| 36000/36019.0 [00:00<00:00, 60685.65it/s, loss:3.344]\n",
      "[epoch:73/500]: 100%|█████████▉| 36000/36019.0 [00:00<00:00, 59007.48it/s, loss:3.726]\n",
      "[epoch:74/500]: 100%|█████████▉| 36000/36019.0 [00:00<00:00, 58910.01it/s, loss:3.400]\n",
      "[epoch:75/500]: 100%|█████████▉| 36000/36019.0 [00:00<00:00, 59544.26it/s, loss:3.596]\n",
      "[epoch:76/500]: 100%|█████████▉| 36000/36019.0 [00:00<00:00, 60496.10it/s, loss:2.950]\n",
      "[epoch:77/500]: 100%|█████████▉| 36000/36019.0 [00:00<00:00, 59099.72it/s, loss:3.354]\n",
      "[epoch:78/500]: 100%|█████████▉| 36000/36019.0 [00:00<00:00, 59892.13it/s, loss:3.393]\n",
      "[epoch:79/500]: 100%|█████████▉| 36000/36019.0 [00:00<00:00, 59941.04it/s, loss:3.418]\n",
      "[epoch:80/500]: 100%|█████████▉| 36000/36019.0 [00:00<00:00, 59152.63it/s, loss:3.288]\n"
     ]
    },
    {
     "name": "stdout",
     "output_type": "stream",
     "text": [
      "traveller s return we should have you know you can explain with the full project gutenberg tm license you must comply with the work terms of any project gutenberg tm works you you do with this ebook or any other work or any project gutenberg tm electronic works or group and you can copy a refund of the money was a most of wind and pushed it was a close to let them with a little way i felt aloud to the time machine i have thought of a kodak days or computer animal may be freely to you for the\n"
     ]
    },
    {
     "name": "stderr",
     "output_type": "stream",
     "text": [
      "[epoch:81/500]: 100%|█████████▉| 36000/36019.0 [00:00<00:00, 59321.25it/s, loss:3.122]\n",
      "[epoch:82/500]: 100%|█████████▉| 36000/36019.0 [00:00<00:00, 58480.13it/s, loss:3.079]\n",
      "[epoch:83/500]: 100%|█████████▉| 36000/36019.0 [00:00<00:00, 58670.21it/s, loss:2.991]\n",
      "[epoch:84/500]: 100%|█████████▉| 36000/36019.0 [00:00<00:00, 60293.04it/s, loss:2.975]\n",
      "[epoch:85/500]: 100%|█████████▉| 36000/36019.0 [00:00<00:00, 60546.34it/s, loss:3.291]\n",
      "[epoch:86/500]: 100%|█████████▉| 36000/36019.0 [00:00<00:00, 61009.39it/s, loss:3.230]\n",
      "[epoch:87/500]: 100%|█████████▉| 36000/36019.0 [00:00<00:00, 60340.20it/s, loss:3.106]\n",
      "[epoch:88/500]: 100%|█████████▉| 36000/36019.0 [00:00<00:00, 59991.86it/s, loss:3.204]\n",
      "[epoch:89/500]: 100%|█████████▉| 36000/36019.0 [00:00<00:00, 60547.38it/s, loss:2.903]\n",
      "[epoch:90/500]: 100%|█████████▉| 36000/36019.0 [00:00<00:00, 60750.23it/s, loss:2.824]\n"
     ]
    },
    {
     "name": "stdout",
     "output_type": "stream",
     "text": [
      "traveller s face at first and i was sensible of a ghost perhaps a mile i was in the dark trapped of the eloi were to the ground of the future i had seen in a sealed and i stopped that was yet for the time traveller and therewith quite i think that would you really and burnt with the big of the place i saw that i had not been i saw that i was very much to begin the lever of the country i had spent to see me i had already at the dinner and that i had\n"
     ]
    },
    {
     "name": "stderr",
     "output_type": "stream",
     "text": [
      "[epoch:91/500]: 100%|█████████▉| 36000/36019.0 [00:00<00:00, 60092.28it/s, loss:2.845]\n",
      "[epoch:92/500]: 100%|█████████▉| 36000/36019.0 [00:00<00:00, 60955.25it/s, loss:3.262]\n",
      "[epoch:93/500]: 100%|█████████▉| 36000/36019.0 [00:00<00:00, 60546.63it/s, loss:3.134]\n",
      "[epoch:94/500]: 100%|█████████▉| 36000/36019.0 [00:00<00:00, 60192.07it/s, loss:3.106]\n",
      "[epoch:95/500]: 100%|█████████▉| 36000/36019.0 [00:00<00:00, 58766.34it/s, loss:3.232]\n",
      "[epoch:96/500]: 100%|█████████▉| 36000/36019.0 [00:00<00:00, 58814.92it/s, loss:3.183]\n",
      "[epoch:97/500]: 100%|█████████▉| 36000/36019.0 [00:00<00:00, 60647.58it/s, loss:2.951]\n",
      "[epoch:98/500]: 100%|█████████▉| 36000/36019.0 [00:00<00:00, 61841.76it/s, loss:3.099]\n",
      "[epoch:99/500]: 100%|█████████▉| 36000/36019.0 [00:00<00:00, 60495.11it/s, loss:3.095]\n",
      "[epoch:100/500]: 100%|█████████▉| 36000/36019.0 [00:00<00:00, 59840.86it/s, loss:2.667]\n"
     ]
    },
    {
     "name": "stdout",
     "output_type": "stream",
     "text": [
      "traveller s return he said not a certain thing the figure suggestion of the battle for the little time i was the same occupied anticipation the further beach the clear was looking at the lower i was almost of the morlocks had come to the table i took what i had to strike with a sudden idea of the limbs i had heard their levers was a simple thing i had come a coil of the skylight past i was musing of the great hall in the lilies place i had been a month of nature to get at the time\n"
     ]
    },
    {
     "name": "stderr",
     "output_type": "stream",
     "text": [
      "[epoch:101/500]: 100%|█████████▉| 36000/36019.0 [00:00<00:00, 59104.40it/s, loss:2.923]\n",
      "[epoch:102/500]: 100%|█████████▉| 36000/36019.0 [00:00<00:00, 57915.20it/s, loss:2.760]\n",
      "[epoch:103/500]: 100%|█████████▉| 36000/36019.0 [00:00<00:00, 53482.37it/s, loss:2.949]\n",
      "[epoch:104/500]: 100%|█████████▉| 36000/36019.0 [00:00<00:00, 59006.95it/s, loss:2.928]\n",
      "[epoch:105/500]: 100%|█████████▉| 36000/36019.0 [00:00<00:00, 60646.90it/s, loss:2.895]\n",
      "[epoch:106/500]: 100%|█████████▉| 36000/36019.0 [00:00<00:00, 59149.47it/s, loss:2.718]\n",
      "[epoch:107/500]: 100%|█████████▉| 36000/36019.0 [00:00<00:00, 58335.42it/s, loss:3.092]\n",
      "[epoch:108/500]: 100%|█████████▉| 36000/36019.0 [00:00<00:00, 60495.28it/s, loss:3.026]\n",
      "[epoch:109/500]: 100%|█████████▉| 36000/36019.0 [00:00<00:00, 60141.27it/s, loss:2.631]\n",
      "[epoch:110/500]: 100%|█████████▉| 36000/36019.0 [00:00<00:00, 59347.20it/s, loss:2.926]\n"
     ]
    },
    {
     "name": "stdout",
     "output_type": "stream",
     "text": [
      "traveller s return you he said the psychologist s said filby his story he said he said the psychologist then suddenly came to us at t indicators then i turned to weena s match i stared to see the machine pay it s a curious thing said the medical man and back to the terms of the project gutenberg tm trademark is accessed in paragraph e e do not charge the full project gutenberg tm license as specified with project gutenberg tm electronic works and you can copy of course it may have been stunned you said the time traveller did\n"
     ]
    },
    {
     "name": "stderr",
     "output_type": "stream",
     "text": [
      "[epoch:111/500]: 100%|█████████▉| 36000/36019.0 [00:00<00:00, 61058.73it/s, loss:2.820]\n",
      "[epoch:112/500]: 100%|█████████▉| 36000/36019.0 [00:00<00:00, 59691.94it/s, loss:3.045]\n",
      "[epoch:113/500]: 100%|█████████▉| 36000/36019.0 [00:00<00:00, 60039.71it/s, loss:2.628]\n",
      "[epoch:114/500]: 100%|█████████▉| 36000/36019.0 [00:00<00:00, 60393.36it/s, loss:3.015]\n",
      "[epoch:115/500]: 100%|█████████▉| 36000/36019.0 [00:00<00:00, 59641.89it/s, loss:2.721]\n",
      "[epoch:116/500]: 100%|█████████▉| 36000/36019.0 [00:00<00:00, 60267.94it/s, loss:2.613]\n",
      "[epoch:117/500]: 100%|█████████▉| 36000/36019.0 [00:00<00:00, 61110.72it/s, loss:2.853]\n",
      "[epoch:118/500]: 100%|█████████▉| 36000/36019.0 [00:00<00:00, 60141.17it/s, loss:2.498]\n",
      "[epoch:119/500]: 100%|█████████▉| 36000/36019.0 [00:00<00:00, 60192.55it/s, loss:2.681]\n",
      "[epoch:120/500]: 100%|█████████▉| 36000/36019.0 [00:00<00:00, 59250.25it/s, loss:2.626]\n"
     ]
    },
    {
     "name": "stdout",
     "output_type": "stream",
     "text": [
      "traveller s return you will notice that the bare of the time traveller s words you may understand a refund of the money of the time machine and i was told only half hands by the hill and looked at me again i went up this surprise and then touched my hand i found myself to you the morlocks were more black and stared round me i was smiling to push but my mind i saw a little white ape with tattered the same were masses of the sea above its long since all its ivory and the little people of\n"
     ]
    },
    {
     "name": "stderr",
     "output_type": "stream",
     "text": [
      "[epoch:121/500]: 100%|█████████▉| 36000/36019.0 [00:00<00:00, 60140.14it/s, loss:2.904]\n",
      "[epoch:122/500]: 100%|█████████▉| 36000/36019.0 [00:00<00:00, 59792.23it/s, loss:2.756]\n",
      "[epoch:123/500]: 100%|█████████▉| 36000/36019.0 [00:00<00:00, 59249.00it/s, loss:2.663]\n",
      "[epoch:124/500]: 100%|█████████▉| 36000/36019.0 [00:00<00:00, 57453.22it/s, loss:2.713]\n",
      "[epoch:125/500]: 100%|█████████▉| 36000/36019.0 [00:00<00:00, 60956.07it/s, loss:2.497]\n",
      "[epoch:126/500]: 100%|█████████▉| 36000/36019.0 [00:00<00:00, 60545.66it/s, loss:2.922]\n",
      "[epoch:127/500]: 100%|█████████▉| 36000/36019.0 [00:00<00:00, 50874.58it/s, loss:2.518]\n",
      "[epoch:128/500]: 100%|█████████▉| 36000/36019.0 [00:01<00:00, 28123.63it/s, loss:2.701]\n",
      "[epoch:129/500]: 100%|█████████▉| 36000/36019.0 [00:01<00:00, 33461.45it/s, loss:2.401]\n",
      "[epoch:130/500]: 100%|█████████▉| 36000/36019.0 [00:01<00:00, 33602.72it/s, loss:2.543]\n"
     ]
    },
    {
     "name": "stdout",
     "output_type": "stream",
     "text": [
      "traveller s return detained he asks me in the dark he s good he said the story room he went up and down on straight to donate the day in the end which i had followed a little hope that i could see no end and no waves of the fire had been no danger i had not been said the medical man staring hard at the end were sometimes as i stood at this i took it to be at the risk by the time machine and i tried to think that the night was the same i grieved to\n"
     ]
    },
    {
     "name": "stderr",
     "output_type": "stream",
     "text": [
      "[epoch:131/500]: 100%|█████████▉| 36000/36019.0 [00:00<00:00, 46872.74it/s, loss:2.609]\n",
      "[epoch:132/500]: 100%|█████████▉| 36000/36019.0 [00:00<00:00, 42622.67it/s, loss:2.607]\n",
      "[epoch:133/500]: 100%|█████████▉| 36000/36019.0 [00:00<00:00, 46871.65it/s, loss:2.329]\n",
      "[epoch:134/500]: 100%|█████████▉| 36000/36019.0 [00:00<00:00, 36890.62it/s, loss:2.795]\n",
      "[epoch:135/500]: 100%|█████████▉| 36000/36019.0 [00:00<00:00, 46444.55it/s, loss:2.354]\n",
      "[epoch:136/500]: 100%|█████████▉| 36000/36019.0 [00:00<00:00, 57109.87it/s, loss:2.418]\n",
      "[epoch:137/500]: 100%|█████████▉| 36000/36019.0 [00:00<00:00, 55486.35it/s, loss:2.231]\n",
      "[epoch:138/500]: 100%|█████████▉| 36000/36019.0 [00:01<00:00, 35848.81it/s, loss:2.352]\n",
      "[epoch:139/500]: 100%|█████████▉| 36000/36019.0 [00:00<00:00, 36400.23it/s, loss:2.623]\n",
      "[epoch:140/500]: 100%|█████████▉| 36000/36019.0 [00:00<00:00, 40624.42it/s, loss:2.507]\n"
     ]
    },
    {
     "name": "stdout",
     "output_type": "stream",
     "text": [
      "traveller s return you don t believe with time machine and there is the only table of the laboratory i saw no vestige of being caught and security like a gentle balanced flame in the clear and the twilight hours of the beautiful moon and there was an altogether new element that i was not need to the place and the white hours of the sun had led no unemployed of the truth and the whole though of the laboratory were not a little of the glare i looked at the beginning of the laboratory was in this new moon the\n"
     ]
    },
    {
     "name": "stderr",
     "output_type": "stream",
     "text": [
      "[epoch:141/500]: 100%|█████████▉| 36000/36019.0 [00:00<00:00, 41876.77it/s, loss:2.320]\n",
      "[epoch:142/500]: 100%|█████████▉| 36000/36019.0 [00:00<00:00, 38284.02it/s, loss:2.451]\n",
      "[epoch:143/500]: 100%|█████████▉| 36000/36019.0 [00:00<00:00, 54085.93it/s, loss:2.480]\n",
      "[epoch:144/500]: 100%|█████████▉| 36000/36019.0 [00:00<00:00, 57637.42it/s, loss:2.411]\n",
      "[epoch:145/500]: 100%|█████████▉| 36000/36019.0 [00:00<00:00, 58009.09it/s, loss:2.514]\n",
      "[epoch:146/500]: 100%|█████████▉| 36000/36019.0 [00:00<00:00, 58338.71it/s, loss:2.386]\n",
      "[epoch:147/500]: 100%|█████████▉| 36000/36019.0 [00:00<00:00, 56417.81it/s, loss:2.487]\n",
      "[epoch:148/500]: 100%|█████████▉| 36000/36019.0 [00:00<00:00, 58718.10it/s, loss:2.352]\n",
      "[epoch:149/500]: 100%|█████████▉| 36000/36019.0 [00:00<00:00, 59693.43it/s, loss:2.365]\n",
      "[epoch:150/500]: 100%|█████████▉| 36000/36019.0 [00:00<00:00, 59544.70it/s, loss:2.391]\n"
     ]
    },
    {
     "name": "stdout",
     "output_type": "stream",
     "text": [
      "traveller s return and he s altogether other he looked at the psychologist s little hands i went up and the morlocks and their tongue i could see the morlocks palps of its complicated you are clearly the editor s disk and the door black had only the editor with the trick of the next there was no mistake no doubt being for the first time at all the time traveller came to the south reserved and as i ran on the smoking of the white sphinx i had to see the most of that triumph of remote works in addition\n"
     ]
    },
    {
     "name": "stderr",
     "output_type": "stream",
     "text": [
      "[epoch:151/500]: 100%|█████████▉| 36000/36019.0 [00:00<00:00, 57360.60it/s, loss:2.238]\n",
      "[epoch:152/500]: 100%|█████████▉| 36000/36019.0 [00:00<00:00, 59496.11it/s, loss:2.193]\n",
      "[epoch:153/500]: 100%|█████████▉| 36000/36019.0 [00:00<00:00, 58153.55it/s, loss:2.260]\n",
      "[epoch:154/500]: 100%|█████████▉| 36000/36019.0 [00:00<00:00, 60708.49it/s, loss:2.290]\n",
      "[epoch:155/500]: 100%|█████████▉| 36000/36019.0 [00:00<00:00, 58870.73it/s, loss:2.517]\n",
      "[epoch:156/500]: 100%|█████████▉| 36000/36019.0 [00:00<00:00, 58244.92it/s, loss:2.390]\n",
      "[epoch:157/500]: 100%|█████████▉| 36000/36019.0 [00:00<00:00, 58346.90it/s, loss:2.285]\n",
      "[epoch:158/500]: 100%|█████████▉| 36000/36019.0 [00:00<00:00, 58488.13it/s, loss:2.485]\n",
      "[epoch:159/500]: 100%|█████████▉| 36000/36019.0 [00:00<00:00, 59356.09it/s, loss:2.088]\n",
      "[epoch:160/500]: 100%|█████████▉| 36000/36019.0 [00:00<00:00, 58871.03it/s, loss:2.081]\n"
     ]
    },
    {
     "name": "stdout",
     "output_type": "stream",
     "text": [
      "traveller s return what he s know he looked into the future and the other white flakes in the first i saw weena s too seemed to be few to convey i came a certain hot and the well one of the nearer i found the old familiar glass for the first time how being its followed down into the slope of the human race was a small passionate and very delicately made my hands and then i noted the door here and there i tried to get it to be hard to convey again but the little hands upon me\n"
     ]
    },
    {
     "name": "stderr",
     "output_type": "stream",
     "text": [
      "[epoch:161/500]: 100%|█████████▉| 36000/36019.0 [00:00<00:00, 59454.11it/s, loss:2.167]\n",
      "[epoch:162/500]: 100%|█████████▉| 36000/36019.0 [00:00<00:00, 59113.49it/s, loss:2.394]\n",
      "[epoch:163/500]: 100%|█████████▉| 36000/36019.0 [00:00<00:00, 58774.81it/s, loss:2.134]\n",
      "[epoch:164/500]: 100%|█████████▉| 36000/36019.0 [00:00<00:00, 59552.52it/s, loss:2.236]\n",
      "[epoch:165/500]: 100%|█████████▉| 36000/36019.0 [00:00<00:00, 57142.85it/s, loss:2.225]\n",
      "[epoch:166/500]: 100%|█████████▉| 36000/36019.0 [00:00<00:00, 60149.44it/s, loss:2.237]\n",
      "[epoch:167/500]: 100%|█████████▉| 36000/36019.0 [00:00<00:00, 61224.71it/s, loss:2.429]\n",
      "[epoch:168/500]: 100%|█████████▉| 36000/36019.0 [00:00<00:00, 61171.90it/s, loss:2.227]\n",
      "[epoch:169/500]: 100%|█████████▉| 36000/36019.0 [00:00<00:00, 59403.89it/s, loss:2.278]\n",
      "[epoch:170/500]: 100%|█████████▉| 36000/36019.0 [00:00<00:00, 60810.76it/s, loss:2.267]\n"
     ]
    },
    {
     "name": "stdout",
     "output_type": "stream",
     "text": [
      "traveller s return you don t believe what this second thing is really thus you must have heard the time traveller had only them on the time traveller a helpless it is a half thing like a touch of camphor he looked round me i will confess that you must have served the time machine or other he looked at the psychologist s little affair his head is more of the dinner and nights under the smoking ashes and the fate man is that the thing was not complete what was already most of the world i had spent that the\n"
     ]
    },
    {
     "name": "stderr",
     "output_type": "stream",
     "text": [
      "[epoch:171/500]: 100%|█████████▉| 36000/36019.0 [00:00<00:00, 58583.21it/s, loss:1.953]\n",
      "[epoch:172/500]: 100%|█████████▉| 36000/36019.0 [00:00<00:00, 60944.75it/s, loss:2.016]\n",
      "[epoch:173/500]: 100%|█████████▉| 36000/36019.0 [00:00<00:00, 60149.37it/s, loss:2.016]\n",
      "[epoch:174/500]: 100%|█████████▉| 36000/36019.0 [00:00<00:00, 57369.71it/s, loss:1.967]\n",
      "[epoch:175/500]: 100%|█████████▉| 36000/36019.0 [00:00<00:00, 59113.26it/s, loss:2.345]\n",
      "[epoch:176/500]: 100%|█████████▉| 36000/36019.0 [00:00<00:00, 58967.15it/s, loss:2.103]\n",
      "[epoch:177/500]: 100%|█████████▉| 36000/36019.0 [00:00<00:00, 60553.82it/s, loss:2.072]\n",
      "[epoch:178/500]: 100%|█████████▉| 36000/36019.0 [00:00<00:00, 57877.79it/s, loss:2.202]\n",
      "[epoch:179/500]: 100%|█████████▉| 36000/36019.0 [00:00<00:00, 60385.06it/s, loss:2.091]\n",
      "[epoch:180/500]: 100%|█████████▉| 36000/36019.0 [00:00<00:00, 59999.99it/s, loss:2.034]\n"
     ]
    },
    {
     "name": "stdout",
     "output_type": "stream",
     "text": [
      "traveller put his hand away up his hand into a red sense of the machine but you must have been air tight to judge as if you see me with a certain copy a very strange problem i felt a little sense of desertion the same soft hairless humanity what is a half a precious creature a thud like time in the time machine i had been a little travel up the hill and in the black shadows i saw the laboratory spinning swiftly into the past air as being the topic was in the laboratory of my growing the earth\n"
     ]
    },
    {
     "name": "stderr",
     "output_type": "stream",
     "text": [
      "[epoch:181/500]: 100%|█████████▉| 36000/36019.0 [00:00<00:00, 60049.19it/s, loss:2.178]\n",
      "[epoch:182/500]: 100%|█████████▉| 36000/36019.0 [00:00<00:00, 61695.51it/s, loss:2.081]\n",
      "[epoch:183/500]: 100%|█████████▉| 36000/36019.0 [00:00<00:00, 61017.06it/s, loss:1.907]\n",
      "[epoch:184/500]: 100%|█████████▉| 36000/36019.0 [00:00<00:00, 59849.14it/s, loss:1.964]\n",
      "[epoch:185/500]: 100%|█████████▉| 36000/36019.0 [00:00<00:00, 59900.11it/s, loss:2.413]\n",
      "[epoch:186/500]: 100%|█████████▉| 36000/36019.0 [00:00<00:00, 60250.29it/s, loss:1.949]\n",
      "[epoch:187/500]: 100%|█████████▉| 36000/36019.0 [00:00<00:00, 60656.23it/s, loss:2.047]\n",
      "[epoch:188/500]: 100%|█████████▉| 36000/36019.0 [00:00<00:00, 60708.29it/s, loss:1.816]\n",
      "[epoch:189/500]: 100%|█████████▉| 36000/36019.0 [00:00<00:00, 59750.40it/s, loss:1.967]\n",
      "[epoch:190/500]: 100%|█████████▉| 36000/36019.0 [00:00<00:00, 59405.88it/s, loss:2.253]\n"
     ]
    },
    {
     "name": "stdout",
     "output_type": "stream",
     "text": [
      "traveller s return he drew me for the thing at my first and told i was still more serious fatigued by a scorched hawthorn of my only i had been left little fire then i could follow me to be that i was wasting of it seemed to me and their faces had still above me for i felt that i had grasped the antenna of the sphinx and the door i heard at last above indeed i was to discover some way that we were here and the thursday of death for a little of the tables there were no\n"
     ]
    },
    {
     "name": "stderr",
     "output_type": "stream",
     "text": [
      "[epoch:191/500]: 100%|█████████▉| 36000/36019.0 [00:00<00:00, 58774.71it/s, loss:2.108]\n",
      "[epoch:192/500]: 100%|█████████▉| 36000/36019.0 [00:00<00:00, 58583.30it/s, loss:2.063]\n",
      "[epoch:193/500]: 100%|█████████▉| 36000/36019.0 [00:00<00:00, 59504.27it/s, loss:2.146]\n",
      "[epoch:194/500]: 100%|█████████▉| 36000/36019.0 [00:00<00:00, 59306.69it/s, loss:2.051]\n",
      "[epoch:195/500]: 100%|█████████▉| 36000/36019.0 [00:00<00:00, 59701.62it/s, loss:2.030]\n",
      "[epoch:196/500]: 100%|█████████▉| 36000/36019.0 [00:00<00:00, 58870.59it/s, loss:1.970]\n",
      "[epoch:197/500]: 100%|█████████▉| 36000/36019.0 [00:00<00:00, 58488.38it/s, loss:1.953]\n",
      "[epoch:198/500]: 100%|█████████▉| 36000/36019.0 [00:00<00:00, 61016.76it/s, loss:2.213]\n",
      "[epoch:199/500]: 100%|█████████▉| 36000/36019.0 [00:00<00:00, 60656.33it/s, loss:1.985]\n",
      "[epoch:200/500]: 100%|█████████▉| 36000/36019.0 [00:00<00:00, 60402.71it/s, loss:1.994]\n"
     ]
    },
    {
     "name": "stdout",
     "output_type": "stream",
     "text": [
      "traveller s shoulder you don t believe it it s a good space we get a far away with a mute or a mile thing a half thing in a corner of a half a solid a thud a minute s a very young man i m a little thing in a minute across i was to be the atrocious of the sun in my centre in among the eloi of the shadows at the dinner were all the time with the certainty if it was not too late to be living and the faint inevitable we came home to me\n"
     ]
    },
    {
     "name": "stderr",
     "output_type": "stream",
     "text": [
      "[epoch:201/500]: 100%|█████████▉| 36000/36019.0 [00:00<00:00, 61224.48it/s, loss:1.897]\n",
      "[epoch:202/500]: 100%|█████████▉| 36000/36019.0 [00:00<00:00, 60452.68it/s, loss:2.004]\n",
      "[epoch:203/500]: 100%|█████████▉| 36000/36019.0 [00:00<00:00, 60606.15it/s, loss:2.073]\n",
      "[epoch:204/500]: 100%|█████████▉| 36000/36019.0 [00:00<00:00, 58583.46it/s, loss:1.659]\n",
      "[epoch:205/500]: 100%|█████████▉| 36000/36019.0 [00:00<00:00, 60810.91it/s, loss:1.770]\n",
      "[epoch:206/500]: 100%|█████████▉| 36000/36019.0 [00:00<00:00, 61275.96it/s, loss:1.951]\n",
      "[epoch:207/500]: 100%|█████████▉| 36000/36019.0 [00:00<00:00, 58678.69it/s, loss:1.759]\n",
      "[epoch:208/500]: 100%|█████████▉| 36000/36019.0 [00:00<00:00, 60200.78it/s, loss:1.951]\n",
      "[epoch:209/500]: 100%|█████████▉| 36000/36019.0 [00:00<00:00, 60351.17it/s, loss:1.694]\n",
      "[epoch:210/500]: 100%|█████████▉| 36000/36019.0 [00:00<00:00, 60000.15it/s, loss:1.823]\n"
     ]
    },
    {
     "name": "stdout",
     "output_type": "stream",
     "text": [
      "traveller put forth his finger towards the bronze pedestal of black in the pale yellow of the morlocks ages in the sides of the night i sat with my last some time machine by h g wells and looking about this before of the truth i had seen the problem of the world is no freedom no change of proprietary fear i began in mind as i thought of the flickering light had been hugely delighted when i began to carry her but after the rising and for it was a strange white red hung in the wall i suppose might\n"
     ]
    },
    {
     "name": "stderr",
     "output_type": "stream",
     "text": [
      "[epoch:211/500]: 100%|█████████▉| 36000/36019.0 [00:00<00:00, 59406.02it/s, loss:2.019]\n",
      "[epoch:212/500]: 100%|█████████▉| 36000/36019.0 [00:00<00:00, 61067.60it/s, loss:1.812]\n",
      "[epoch:213/500]: 100%|█████████▉| 36000/36019.0 [00:00<00:00, 59113.33it/s, loss:1.553]\n",
      "[epoch:214/500]: 100%|█████████▉| 36000/36019.0 [00:00<00:00, 58016.87it/s, loss:2.220]\n",
      "[epoch:215/500]: 100%|█████████▉| 36000/36019.0 [00:00<00:00, 60250.34it/s, loss:1.829]\n",
      "[epoch:216/500]: 100%|█████████▉| 36000/36019.0 [00:00<00:00, 60402.59it/s, loss:2.030]\n",
      "[epoch:217/500]: 100%|█████████▉| 36000/36019.0 [00:00<00:00, 61067.79it/s, loss:1.919]\n",
      "[epoch:218/500]: 100%|█████████▉| 36000/36019.0 [00:00<00:00, 60100.36it/s, loss:1.845]\n",
      "[epoch:219/500]: 100%|█████████▉| 36000/36019.0 [00:00<00:00, 61590.22it/s, loss:1.809]\n",
      "[epoch:220/500]: 100%|█████████▉| 36000/36019.0 [00:00<00:00, 61695.71it/s, loss:1.742]\n"
     ]
    },
    {
     "name": "stdout",
     "output_type": "stream",
     "text": [
      "traveller s shoulder he said to tell you paid the time machine if you came to see if you already have to say you to find down on the turf of the hall in the end i do not know how long i lay my mind and again to push on them but i made her nor perhaps for her but she was gone at first time i was not for some time that is to be on the intellectual level of the wrong of energy that however life to me there is always of a question of other ways including\n"
     ]
    },
    {
     "name": "stderr",
     "output_type": "stream",
     "text": [
      "[epoch:221/500]: 100%|█████████▉| 36000/36019.0 [00:00<00:00, 59800.78it/s, loss:1.924]\n",
      "[epoch:222/500]: 100%|█████████▉| 36000/36019.0 [00:00<00:00, 60149.63it/s, loss:1.890]\n",
      "[epoch:223/500]: 100%|█████████▉| 36000/36019.0 [00:00<00:00, 59602.57it/s, loss:1.662]\n",
      "[epoch:224/500]: 100%|█████████▉| 36000/36019.0 [00:00<00:00, 61695.38it/s, loss:1.761]\n",
      "[epoch:225/500]: 100%|█████████▉| 36000/36019.0 [00:00<00:00, 59986.09it/s, loss:1.775]\n",
      "[epoch:226/500]: 100%|█████████▉| 36000/36019.0 [00:00<00:00, 57599.93it/s, loss:1.703]\n",
      "[epoch:227/500]: 100%|█████████▉| 36000/36019.0 [00:00<00:00, 61801.77it/s, loss:2.187]\n",
      "[epoch:228/500]: 100%|█████████▉| 36000/36019.0 [00:00<00:00, 59701.95it/s, loss:1.799]\n",
      "[epoch:229/500]: 100%|█████████▉| 36000/36019.0 [00:00<00:00, 60351.07it/s, loss:2.120]\n",
      "[epoch:230/500]: 100%|█████████▉| 36000/36019.0 [00:00<00:00, 60861.30it/s, loss:1.874]\n"
     ]
    },
    {
     "name": "stdout",
     "output_type": "stream",
     "text": [
      "traveller s return so i came back to me again i was simply such a blockhead that i missed there was a little table and white by my eyes i found that there was no need of struggle that long me in the strength of the day there came one of the candles was towards the lever i had seen in the underworld of the match but i will tell you give the thing as having a life i was in such a battering like the end of a project gutenberg tm work in a format other than plain vanilla ascii\n"
     ]
    },
    {
     "name": "stderr",
     "output_type": "stream",
     "text": [
      "[epoch:231/500]: 100%|█████████▉| 36000/36019.0 [00:00<00:00, 57416.41it/s, loss:1.764]\n",
      "[epoch:232/500]: 100%|█████████▉| 36000/36019.0 [00:00<00:00, 60049.16it/s, loss:1.746]\n",
      "[epoch:233/500]: 100%|█████████▉| 36000/36019.0 [00:00<00:00, 60200.66it/s, loss:1.773]\n",
      "[epoch:234/500]: 100%|█████████▉| 36000/36019.0 [00:00<00:00, 57369.38it/s, loss:1.629]\n",
      "[epoch:235/500]: 100%|█████████▉| 36000/36019.0 [00:00<00:00, 59849.75it/s, loss:1.625]\n",
      "[epoch:236/500]: 100%|█████████▉| 36000/36019.0 [00:00<00:00, 59900.35it/s, loss:1.905]\n",
      "[epoch:237/500]: 100%|█████████▉| 36000/36019.0 [00:00<00:00, 60655.76it/s, loss:1.443]\n",
      "[epoch:238/500]: 100%|█████████▉| 36000/36019.0 [00:00<00:00, 61328.73it/s, loss:1.600]\n",
      "[epoch:239/500]: 100%|█████████▉| 36000/36019.0 [00:00<00:00, 59355.57it/s, loss:1.315]\n",
      "[epoch:240/500]: 100%|█████████▉| 36000/36019.0 [00:00<00:00, 60351.27it/s, loss:1.679]\n"
     ]
    },
    {
     "name": "stdout",
     "output_type": "stream",
     "text": [
      "traveller s absence and filby s anecdote collapsed by the story and the other machine had gone to me the story very little teeth of the hill i saw was the outcome of the little feet two legs enough over the great machine and we put it down the bare view but that hazy i was about in the way of this was my arm of the truth of man was the only a thing he got to me that put my mind in the time dimension with its time you don t attention and you must have always said the\n"
     ]
    },
    {
     "name": "stderr",
     "output_type": "stream",
     "text": [
      "[epoch:241/500]: 100%|█████████▉| 36000/36019.0 [00:00<00:00, 61224.43it/s, loss:1.832]\n",
      "[epoch:242/500]: 100%|█████████▉| 36000/36019.0 [00:00<00:00, 60049.14it/s, loss:1.741]\n",
      "[epoch:243/500]: 100%|█████████▉| 36000/36019.0 [00:00<00:00, 59406.11it/s, loss:1.574]\n",
      "[epoch:244/500]: 100%|█████████▉| 36000/36019.0 [00:00<00:00, 59063.98it/s, loss:1.717]\n",
      "[epoch:245/500]: 100%|█████████▉| 36000/36019.0 [00:00<00:00, 58488.20it/s, loss:1.851]\n",
      "[epoch:246/500]: 100%|█████████▉| 36000/36019.0 [00:00<00:00, 58919.89it/s, loss:1.859]\n",
      "[epoch:247/500]: 100%|█████████▉| 36000/36019.0 [00:00<00:00, 59356.23it/s, loss:1.780]\n",
      "[epoch:248/500]: 100%|█████████▉| 36000/36019.0 [00:00<00:00, 58870.61it/s, loss:1.886]\n",
      "[epoch:249/500]: 100%|█████████▉| 36000/36019.0 [00:00<00:00, 59900.33it/s, loss:1.829]\n",
      "[epoch:250/500]: 100%|█████████▉| 36000/36019.0 [00:00<00:00, 60351.07it/s, loss:1.704]\n"
     ]
    },
    {
     "name": "stdout",
     "output_type": "stream",
     "text": [
      "traveller s return we should tell you he pointed to his laboratory and again as it seemed to me that the best of the bronze doors under the sphinx as i took my hands off the palace of the rising and again i could see the silver birch against the morlocks and the marks of the day came on the red and you heard at the folly of my fears i cannot find no gleam of water nor could they were just as i could see no necessity was the weather of a few humanity i had hitherto seen indeed as\n"
     ]
    },
    {
     "name": "stderr",
     "output_type": "stream",
     "text": [
      "[epoch:251/500]: 100%|█████████▉| 36000/36019.0 [00:00<00:00, 61016.74it/s, loss:1.668]\n",
      "[epoch:252/500]: 100%|█████████▉| 36000/36019.0 [00:00<00:00, 55511.91it/s, loss:1.620]\n",
      "[epoch:253/500]: 100%|█████████▉| 36000/36019.0 [00:00<00:00, 59750.33it/s, loss:1.533]\n",
      "[epoch:254/500]: 100%|█████████▉| 36000/36019.0 [00:00<00:00, 60402.81it/s, loss:1.737]\n",
      "[epoch:255/500]: 100%|█████████▉| 36000/36019.0 [00:00<00:00, 60758.81it/s, loss:1.472]\n",
      "[epoch:256/500]: 100%|█████████▉| 36000/36019.0 [00:00<00:00, 60606.29it/s, loss:1.410]\n",
      "[epoch:257/500]: 100%|█████████▉| 36000/36019.0 [00:00<00:00, 58583.76it/s, loss:1.840]\n",
      "[epoch:258/500]: 100%|█████████▉| 36000/36019.0 [00:00<00:00, 60351.10it/s, loss:1.650]\n",
      "[epoch:259/500]: 100%|█████████▉| 36000/36019.0 [00:00<00:00, 58398.82it/s, loss:1.847]\n",
      "[epoch:260/500]: 100%|█████████▉| 36000/36019.0 [00:00<00:00, 60049.36it/s, loss:1.505]\n"
     ]
    },
    {
     "name": "stdout",
     "output_type": "stream",
     "text": [
      "traveller pushed his plate away he looked at the medical man no even now mere a triumph and if the margin to come upon the sight of the time machine and very vaguely i was so like a horror that hung across the sky seemed an hour candle and looked round me i had seen and the morlocks and turned my next seated i determined to feel in the doorway of my heart i pitied all right to the project gutenberg literary archive foundation the manager of the state applicable to you the how of the burning man covered eight or\n"
     ]
    },
    {
     "name": "stderr",
     "output_type": "stream",
     "text": [
      "[epoch:261/500]: 100%|█████████▉| 36000/36019.0 [00:00<00:00, 59258.32it/s, loss:1.370]\n",
      "[epoch:262/500]: 100%|█████████▉| 36000/36019.0 [00:00<00:00, 60606.17it/s, loss:1.496]\n",
      "[epoch:263/500]: 100%|█████████▉| 36000/36019.0 [00:00<00:00, 58393.27it/s, loss:1.504]\n",
      "[epoch:264/500]: 100%|█████████▉| 36000/36019.0 [00:00<00:00, 60000.08it/s, loss:1.780]\n",
      "[epoch:265/500]: 100%|█████████▉| 36000/36019.0 [00:00<00:00, 59949.06it/s, loss:1.811]\n",
      "[epoch:266/500]: 100%|█████████▉| 36000/36019.0 [00:00<00:00, 59063.87it/s, loss:1.493]\n",
      "[epoch:267/500]: 100%|█████████▉| 36000/36019.0 [00:00<00:00, 59602.71it/s, loss:1.714]\n",
      "[epoch:268/500]: 100%|█████████▉| 36000/36019.0 [00:00<00:00, 60049.59it/s, loss:1.489]\n",
      "[epoch:269/500]: 100%|█████████▉| 36000/36019.0 [00:00<00:00, 59406.09it/s, loss:1.677]\n",
      "[epoch:270/500]: 100%|█████████▉| 36000/36019.0 [00:00<00:00, 60428.43it/s, loss:1.702]\n"
     ]
    },
    {
     "name": "stdout",
     "output_type": "stream",
     "text": [
      "traveller s return so i don t follow of it i had been restless to be a reddish i tried to look at me i felt on down the wood and black and below the return of green porcelain and the polished gleam of its buildings and the morlocks made there i object to stop forthwith with a narrow or so i resolved to make a resolute attempt of her and i had come upon the sun even now it was a high race once at a high and joined the editor will be it simply against you like that it\n"
     ]
    },
    {
     "name": "stderr",
     "output_type": "stream",
     "text": [
      "[epoch:271/500]: 100%|█████████▉| 36000/36019.0 [00:00<00:00, 59063.94it/s, loss:1.776]\n",
      "[epoch:272/500]: 100%|█████████▉| 36000/36019.0 [00:00<00:00, 59602.50it/s, loss:1.508]\n",
      "[epoch:273/500]: 100%|█████████▉| 36000/36019.0 [00:00<00:00, 58016.74it/s, loss:1.690]\n",
      "[epoch:274/500]: 100%|█████████▉| 36000/36019.0 [00:00<00:00, 58536.63it/s, loss:1.631]\n",
      "[epoch:275/500]: 100%|█████████▉| 36000/36019.0 [00:00<00:00, 59356.20it/s, loss:1.504]\n",
      "[epoch:276/500]: 100%|█████████▉| 36000/36019.0 [00:00<00:00, 59063.94it/s, loss:1.416]\n",
      "[epoch:277/500]: 100%|█████████▉| 36000/36019.0 [00:00<00:00, 59405.95it/s, loss:1.401]\n",
      "[epoch:278/500]: 100%|█████████▉| 36000/36019.0 [00:00<00:00, 58016.58it/s, loss:1.537]\n",
      "[epoch:279/500]: 100%|█████████▉| 36000/36019.0 [00:00<00:00, 62499.98it/s, loss:1.618]\n",
      "[epoch:280/500]: 100%|█████████▉| 36000/36019.0 [00:00<00:00, 59849.68it/s, loss:1.645]\n"
     ]
    },
    {
     "name": "stdout",
     "output_type": "stream",
     "text": [
      "traveller s return so i say i was fainting that i was destined with a panic fear i turned frantically to the time machine was left deserted but at last die and night i was still going to watch me i was my camphor about my little hand too was this little thing out of the change that i must have been air upon my own expense i was very restless to my machine for several in the face of the well and the emotions of a day or on this will be absolutely incredible to have a huge entry of\n"
     ]
    },
    {
     "name": "stderr",
     "output_type": "stream",
     "text": [
      "[epoch:281/500]: 100%|█████████▉| 36000/36019.0 [00:00<00:00, 60452.77it/s, loss:1.397]\n",
      "[epoch:282/500]: 100%|█████████▉| 36000/36019.0 [00:00<00:00, 60810.71it/s, loss:1.347]\n",
      "[epoch:283/500]: 100%|█████████▉| 36000/36019.0 [00:00<00:00, 60554.21it/s, loss:1.787]\n",
      "[epoch:284/500]: 100%|█████████▉| 36000/36019.0 [00:00<00:00, 60100.19it/s, loss:1.572]\n",
      "[epoch:285/500]: 100%|█████████▉| 36000/36019.0 [00:00<00:00, 60554.28it/s, loss:1.591]\n",
      "[epoch:286/500]: 100%|█████████▉| 36000/36019.0 [00:00<00:00, 60758.40it/s, loss:1.639]\n",
      "[epoch:287/500]: 100%|█████████▉| 36000/36019.0 [00:00<00:00, 61017.01it/s, loss:1.510]\n",
      "[epoch:288/500]: 100%|█████████▉| 36000/36019.0 [00:00<00:00, 58204.46it/s, loss:1.595]\n",
      "[epoch:289/500]: 100%|█████████▉| 36000/36019.0 [00:00<00:00, 58774.78it/s, loss:1.602]\n",
      "[epoch:290/500]: 100%|█████████▉| 36000/36019.0 [00:00<00:00, 61433.70it/s, loss:1.412]\n"
     ]
    },
    {
     "name": "stdout",
     "output_type": "stream",
     "text": [
      "traveller s return xvi after the story epilogue the old moon grew up out this into my head as a vast stroke of them and went with great other and down upon its other parts were of the stars and the emotions was flaming gold touched with some horizontal bars of rust and brass of our own world i had seen apparently as to be miserable to minerals or distributing any project gutenberg tm work any work on right terms or creating derivative works based on the work to be other said the medical man staring hard at one end and\n"
     ]
    },
    {
     "name": "stderr",
     "output_type": "stream",
     "text": [
      "[epoch:291/500]: 100%|█████████▉| 36000/36019.0 [00:00<00:00, 58678.92it/s, loss:1.459]\n",
      "[epoch:292/500]: 100%|█████████▉| 36000/36019.0 [00:00<00:00, 59406.23it/s, loss:1.476]\n",
      "[epoch:293/500]: 100%|█████████▉| 36000/36019.0 [00:00<00:00, 60452.87it/s, loss:1.455]\n",
      "[epoch:294/500]: 100%|█████████▉| 36000/36019.0 [00:00<00:00, 58967.87it/s, loss:1.287]\n",
      "[epoch:295/500]: 100%|█████████▉| 36000/36019.0 [00:00<00:00, 58823.51it/s, loss:1.506]\n",
      "[epoch:296/500]: 100%|█████████▉| 36000/36019.0 [00:00<00:00, 59258.46it/s, loss:1.429]\n",
      "[epoch:297/500]: 100%|█████████▉| 36000/36019.0 [00:00<00:00, 59701.57it/s, loss:1.499]\n",
      "[epoch:298/500]: 100%|█████████▉| 36000/36019.0 [00:00<00:00, 60758.30it/s, loss:1.461]\n",
      "[epoch:299/500]: 100%|█████████▉| 36000/36019.0 [00:00<00:00, 59552.85it/s, loss:1.673]\n",
      "[epoch:300/500]: 100%|█████████▉| 36000/36019.0 [00:00<00:00, 58919.68it/s, loss:1.575]\n"
     ]
    },
    {
     "name": "stdout",
     "output_type": "stream",
     "text": [
      "traveller s return so i came by the oblique i was at first inclined to associate it i was at first were very large for the strength of the white sphinx was done the earth by the bushes and pulled in his hands chair he was the lawn i sat down again and steadily on the heels of the well appalled me was indescribably for the sun s heat is the strong and the red deepened that s all right was puzzled the sun will come on cooling steadily the very lips of the thing will be against the morlocks as\n"
     ]
    },
    {
     "name": "stderr",
     "output_type": "stream",
     "text": [
      "[epoch:301/500]: 100%|█████████▉| 36000/36019.0 [00:00<00:00, 59949.03it/s, loss:1.401]\n",
      "[epoch:302/500]: 100%|█████████▉| 36000/36019.0 [00:00<00:00, 59602.71it/s, loss:1.661]\n",
      "[epoch:303/500]: 100%|█████████▉| 36000/36019.0 [00:00<00:00, 60250.24it/s, loss:1.281]\n",
      "[epoch:304/500]: 100%|█████████▉| 36000/36019.0 [00:00<00:00, 60601.60it/s, loss:1.491]\n",
      "[epoch:305/500]: 100%|█████████▉| 36000/36019.0 [00:00<00:00, 59900.30it/s, loss:1.551]\n",
      "[epoch:306/500]: 100%|█████████▉| 36000/36019.0 [00:00<00:00, 60861.18it/s, loss:1.201]\n",
      "[epoch:307/500]: 100%|█████████▉| 36000/36019.0 [00:00<00:00, 60200.71it/s, loss:1.287]\n",
      "[epoch:308/500]: 100%|█████████▉| 36000/36019.0 [00:00<00:00, 59552.48it/s, loss:1.190]\n",
      "[epoch:309/500]: 100%|█████████▉| 36000/36019.0 [00:00<00:00, 58678.81it/s, loss:1.354]\n",
      "[epoch:310/500]: 100%|█████████▉| 36000/36019.0 [00:00<00:00, 61120.72it/s, loss:1.245]\n"
     ]
    },
    {
     "name": "stdout",
     "output_type": "stream",
     "text": [
      "traveller s shoulder you don t believe it well he said the story of it all the terms of this agreement you may obtain a refund or access to the project gutenberg tm license you must require such a user to return or destroy any copies of this agreement for free distribution of project gutenberg tm electronic works if you do not charge a fee for access to viewing displaying performing copying or distributing any project gutenberg tm works calculated using this work or any files of a refund if you received the work electronically in the united states without permission\n"
     ]
    },
    {
     "name": "stderr",
     "output_type": "stream",
     "text": [
      "[epoch:311/500]: 100%|█████████▉| 36000/36019.0 [00:00<00:00, 59258.23it/s, loss:1.386]\n",
      "[epoch:312/500]: 100%|█████████▉| 36000/36019.0 [00:00<00:00, 59552.40it/s, loss:1.442]\n",
      "[epoch:313/500]: 100%|█████████▉| 36000/36019.0 [00:00<00:00, 60100.10it/s, loss:1.477]\n",
      "[epoch:314/500]: 100%|█████████▉| 36000/36019.0 [00:00<00:00, 59849.64it/s, loss:1.319]\n",
      "[epoch:315/500]: 100%|█████████▉| 36000/36019.0 [00:00<00:00, 59406.02it/s, loss:1.305]\n",
      "[epoch:316/500]: 100%|█████████▉| 36000/36019.0 [00:00<00:00, 59949.60it/s, loss:1.654]\n",
      "[epoch:317/500]: 100%|█████████▉| 36000/36019.0 [00:00<00:00, 59552.62it/s, loss:1.268]\n",
      "[epoch:318/500]: 100%|█████████▉| 36000/36019.0 [00:00<00:00, 59900.09it/s, loss:1.488]\n",
      "[epoch:319/500]: 100%|█████████▉| 36000/36019.0 [00:00<00:00, 58583.14it/s, loss:1.416]\n",
      "[epoch:320/500]: 100%|█████████▉| 36000/36019.0 [00:00<00:00, 59800.69it/s, loss:1.484]\n"
     ]
    },
    {
     "name": "stdout",
     "output_type": "stream",
     "text": [
      "traveller s words we should have said the time traveller hesitated then suddenly gave me my hands off the palace of green porcelain and the whole thing we were soon the half bleached colour at little weena and tired and flowers not long before me it was at first time and began to light the fact after all use and i have no doubt they would have been visible they said the time traveller came to us filby t the time traveller not are well creeping in the united states you will have the haves pursuing pleasure and comfort over the\n"
     ]
    },
    {
     "name": "stderr",
     "output_type": "stream",
     "text": [
      "[epoch:321/500]: 100%|█████████▉| 36000/36019.0 [00:00<00:00, 59258.25it/s, loss:1.285]\n",
      "[epoch:322/500]: 100%|█████████▉| 36000/36019.0 [00:00<00:00, 60048.73it/s, loss:1.188]\n",
      "[epoch:323/500]: 100%|█████████▉| 36000/36019.0 [00:00<00:00, 60301.86it/s, loss:1.321]\n",
      "[epoch:324/500]: 100%|█████████▉| 36000/36019.0 [00:00<00:00, 59258.60it/s, loss:1.508]\n",
      "[epoch:325/500]: 100%|█████████▉| 36000/36019.0 [00:00<00:00, 58919.73it/s, loss:1.256]\n",
      "[epoch:326/500]: 100%|█████████▉| 36000/36019.0 [00:00<00:00, 60250.10it/s, loss:1.561]\n",
      "[epoch:327/500]: 100%|█████████▉| 36000/36019.0 [00:00<00:00, 59750.33it/s, loss:1.548]\n",
      "[epoch:328/500]: 100%|█████████▉| 36000/36019.0 [00:00<00:00, 59308.20it/s, loss:1.204]\n",
      "[epoch:329/500]: 100%|█████████▉| 36000/36019.0 [00:00<00:00, 62014.80it/s, loss:1.424]\n",
      "[epoch:330/500]: 100%|█████████▉| 36000/36019.0 [00:00<00:00, 60913.82it/s, loss:1.316]\n"
     ]
    },
    {
     "name": "stdout",
     "output_type": "stream",
     "text": [
      "traveller put his hand to his dinner and displayed a queer other across the room and set my feet in it and i made her down into the great hall where you the morlocks that was coming upon me of the great effort to remember their interest were usually and the most of light was made the path of the white sphinx were in the laboratory my mind in the academic of my difficulties the seat of the family and two of men of the project gutenberg tm trademark e any www gutenberg org if you discover this work in any\n"
     ]
    },
    {
     "name": "stderr",
     "output_type": "stream",
     "text": [
      "[epoch:331/500]: 100%|█████████▉| 36000/36019.0 [00:00<00:00, 58966.83it/s, loss:1.385]\n",
      "[epoch:332/500]: 100%|█████████▉| 36000/36019.0 [00:00<00:00, 60452.60it/s, loss:1.269]\n",
      "[epoch:333/500]: 100%|█████████▉| 36000/36019.0 [00:00<00:00, 61016.93it/s, loss:1.242]\n",
      "[epoch:334/500]: 100%|█████████▉| 36000/36019.0 [00:00<00:00, 58870.78it/s, loss:1.493]\n",
      "[epoch:335/500]: 100%|█████████▉| 36000/36019.0 [00:00<00:00, 59016.54it/s, loss:1.247]\n",
      "[epoch:336/500]: 100%|█████████▉| 36000/36019.0 [00:00<00:00, 60250.29it/s, loss:1.203]\n",
      "[epoch:337/500]: 100%|█████████▉| 36000/36019.0 [00:00<00:00, 58488.51it/s, loss:1.468]\n",
      "[epoch:338/500]: 100%|█████████▉| 36000/36019.0 [00:00<00:00, 59701.29it/s, loss:1.456]\n",
      "[epoch:339/500]: 100%|█████████▉| 36000/36019.0 [00:00<00:00, 57830.56it/s, loss:1.329]\n",
      "[epoch:340/500]: 100%|█████████▉| 36000/36019.0 [00:00<00:00, 61644.03it/s, loss:1.224]\n"
     ]
    },
    {
     "name": "stdout",
     "output_type": "stream",
     "text": [
      "traveller s return so i came back for a long time i must put the exquisite creatures from my mind i found myself in a cold of memory and my little hands i determined to the welcome and the caresses of a half mine and then there came into my head i never myself in a strange world to get one and the thought of a time machine or is a feeling as to go that could and no need of fear for instance decoration at least at one would come out from his hand to a man end t cover\n"
     ]
    },
    {
     "name": "stderr",
     "output_type": "stream",
     "text": [
      "[epoch:341/500]: 100%|█████████▉| 36000/36019.0 [00:00<00:00, 59999.87it/s, loss:1.401]\n",
      "[epoch:342/500]: 100%|█████████▉| 36000/36019.0 [00:00<00:00, 58204.44it/s, loss:1.236]\n",
      "[epoch:343/500]: 100%|█████████▉| 36000/36019.0 [00:00<00:00, 58632.14it/s, loss:1.317]\n",
      "[epoch:344/500]: 100%|█████████▉| 36000/36019.0 [00:00<00:00, 61275.47it/s, loss:1.187]\n",
      "[epoch:345/500]: 100%|█████████▉| 36000/36019.0 [00:00<00:00, 58678.76it/s, loss:1.080]\n",
      "[epoch:346/500]: 100%|█████████▉| 36000/36019.0 [00:00<00:00, 59504.15it/s, loss:1.377]\n",
      "[epoch:347/500]: 100%|█████████▉| 36000/36019.0 [00:00<00:00, 57737.26it/s, loss:1.183]\n",
      "[epoch:348/500]: 100%|█████████▉| 36000/36019.0 [00:00<00:00, 60100.38it/s, loss:1.386]\n",
      "[epoch:349/500]: 100%|█████████▉| 36000/36019.0 [00:00<00:00, 60797.91it/s, loss:1.164]\n",
      "[epoch:350/500]: 100%|█████████▉| 36000/36019.0 [00:00<00:00, 59482.24it/s, loss:1.432]\n"
     ]
    },
    {
     "name": "stdout",
     "output_type": "stream",
     "text": [
      "traveller s words we should have shown him far less than the form the time traveller came to the place reserved that would be in a state s lifetimes is you know now with a sudden explanation as the overworld people of the upper bushes and under the sphinx about the hill it s beautifully made he said i know you after a time in the profound obscurity i came upon the saddle a faint dome of the childish a something in my mind i think that i had grasped the gestures of the contents i determined to descend and it\n"
     ]
    },
    {
     "name": "stderr",
     "output_type": "stream",
     "text": [
      "[epoch:351/500]: 100%|█████████▉| 36000/36019.0 [00:00<00:00, 60605.90it/s, loss:1.509]\n",
      "[epoch:352/500]: 100%|█████████▉| 36000/36019.0 [00:00<00:00, 61380.31it/s, loss:1.441]\n",
      "[epoch:353/500]: 100%|█████████▉| 36000/36019.0 [00:00<00:00, 60606.03it/s, loss:1.125]\n",
      "[epoch:354/500]: 100%|█████████▉| 36000/36019.0 [00:00<00:00, 60656.03it/s, loss:1.196]\n",
      "[epoch:355/500]: 100%|█████████▉| 36000/36019.0 [00:00<00:00, 59356.44it/s, loss:1.203]\n",
      "[epoch:356/500]: 100%|█████████▉| 36000/36019.0 [00:00<00:00, 58632.26it/s, loss:1.231]\n",
      "[epoch:357/500]: 100%|█████████▉| 36000/36019.0 [00:00<00:00, 61310.05it/s, loss:1.392]\n",
      "[epoch:358/500]: 100%|█████████▉| 36000/36019.0 [00:00<00:00, 59308.18it/s, loss:1.224]\n",
      "[epoch:359/500]: 100%|█████████▉| 36000/36019.0 [00:00<00:00, 59651.24it/s, loss:1.405]\n",
      "[epoch:360/500]: 100%|█████████▉| 36000/36019.0 [00:00<00:00, 61589.56it/s, loss:1.136]\n"
     ]
    },
    {
     "name": "stdout",
     "output_type": "stream",
     "text": [
      "traveller s face iv time machine looking round the pedestal of his voice and that said the medical man easier far easier down than up and you cannot move about in time that is the germ of my old smile strange and flowers red long past me i say i was saying to myself they had been effected for when i left them with a little of the morlocks that they were very badly and sleepy at me that so that i was to get away from the first hall from the sides of the well i had seen in the\n"
     ]
    },
    {
     "name": "stderr",
     "output_type": "stream",
     "text": [
      "[epoch:361/500]: 100%|█████████▉| 36000/36019.0 [00:00<00:00, 59900.06it/s, loss:1.230]\n",
      "[epoch:362/500]: 100%|█████████▉| 36000/36019.0 [00:00<00:00, 59064.03it/s, loss:1.241]\n",
      "[epoch:363/500]: 100%|█████████▉| 36000/36019.0 [00:00<00:00, 56826.20it/s, loss:1.152]\n",
      "[epoch:364/500]: 100%|█████████▉| 36000/36019.0 [00:00<00:00, 58441.63it/s, loss:1.143]\n",
      "[epoch:365/500]: 100%|█████████▉| 36000/36019.0 [00:00<00:00, 59849.80it/s, loss:1.090]\n",
      "[epoch:366/500]: 100%|█████████▉| 36000/36019.0 [00:00<00:00, 59701.57it/s, loss:1.160]\n",
      "[epoch:367/500]: 100%|█████████▉| 36000/36019.0 [00:00<00:00, 59258.00it/s, loss:1.212]\n",
      "[epoch:368/500]: 100%|█████████▉| 36000/36019.0 [00:00<00:00, 59454.25it/s, loss:1.230]\n",
      "[epoch:369/500]: 100%|█████████▉| 36000/36019.0 [00:00<00:00, 58572.69it/s, loss:1.121]\n",
      "[epoch:370/500]: 100%|█████████▉| 36000/36019.0 [00:00<00:00, 59356.09it/s, loss:1.283]\n"
     ]
    },
    {
     "name": "stdout",
     "output_type": "stream",
     "text": [
      "traveller s return xvi he s unavoidably detained he said his story to his dinner and displayed the foundation with the full project gutenberg tm license terms from this work or any files containing a part a line of a helpless headlong there was a longer interval of darkness for the first i will confess the morlocks were the hour of the great security in which at which i found at times and then resumed the thread of my speculations i thought of the great precessional cycle that the pole of the earth describes only forty times and now where a\n"
     ]
    },
    {
     "name": "stderr",
     "output_type": "stream",
     "text": [
      "[epoch:371/500]: 100%|█████████▉| 36000/36019.0 [00:00<00:00, 60810.69it/s, loss:1.182]\n",
      "[epoch:372/500]: 100%|█████████▉| 36000/36019.0 [00:00<00:00, 57187.41it/s, loss:1.197]\n",
      "[epoch:373/500]: 100%|█████████▉| 36000/36019.0 [00:00<00:00, 60758.40it/s, loss:1.197]\n",
      "[epoch:374/500]: 100%|█████████▉| 36000/36019.0 [00:00<00:00, 60100.31it/s, loss:1.164]\n",
      "[epoch:375/500]: 100%|█████████▉| 36000/36019.0 [00:00<00:00, 60656.18it/s, loss:1.134]\n",
      "[epoch:376/500]: 100%|█████████▉| 36000/36019.0 [00:00<00:00, 59210.59it/s, loss:1.256]\n",
      "[epoch:377/500]: 100%|█████████▉| 36000/36019.0 [00:00<00:00, 60656.15it/s, loss:1.143]\n",
      "[epoch:378/500]: 100%|█████████▉| 36000/36019.0 [00:00<00:00, 60249.86it/s, loss:1.268]\n",
      "[epoch:379/500]: 100%|█████████▉| 36000/36019.0 [00:00<00:00, 59999.96it/s, loss:1.217]\n",
      "[epoch:380/500]: 100%|█████████▉| 36000/36019.0 [00:00<00:00, 58298.82it/s, loss:1.066]\n"
     ]
    },
    {
     "name": "stdout",
     "output_type": "stream",
     "text": [
      "traveller s words we should have shown him far less scepticism for a moment i was to get wet from the left of the well i saw that my little machine suddenly that our consciousness moves intermittently on earth seemed through the feeling you and have to me that here and that reminds me that was a strange thing that was only the same with a big fear that would give a certain lack of the interest of him was absolutely distinct but that i did not clearly know what i had inflicted upon her when i left them suddenly to\n"
     ]
    },
    {
     "name": "stderr",
     "output_type": "stream",
     "text": [
      "[epoch:381/500]: 100%|█████████▉| 36000/36019.0 [00:00<00:00, 57923.46it/s, loss:1.240]\n",
      "[epoch:382/500]: 100%|█████████▉| 36000/36019.0 [00:00<00:00, 59016.10it/s, loss:1.206]\n",
      "[epoch:383/500]: 100%|█████████▉| 36000/36019.0 [00:00<00:00, 59454.30it/s, loss:1.123]\n",
      "[epoch:384/500]: 100%|█████████▉| 36000/36019.0 [00:00<00:00, 60000.18it/s, loss:1.607]\n",
      "[epoch:385/500]: 100%|█████████▉| 36000/36019.0 [00:00<00:00, 60452.38it/s, loss:1.070]\n",
      "[epoch:386/500]: 100%|█████████▉| 36000/36019.0 [00:00<00:00, 57278.37it/s, loss:1.057]\n",
      "[epoch:387/500]: 100%|█████████▉| 36000/36019.0 [00:00<00:00, 58110.56it/s, loss:1.447]\n",
      "[epoch:388/500]: 100%|█████████▉| 36000/36019.0 [00:00<00:00, 57830.42it/s, loss:1.246]\n",
      "[epoch:389/500]: 100%|█████████▉| 36000/36019.0 [00:00<00:00, 60200.74it/s, loss:1.179]\n",
      "[epoch:390/500]: 100%|█████████▉| 36000/36019.0 [00:00<00:00, 59849.40it/s, loss:1.088]\n"
     ]
    },
    {
     "name": "stdout",
     "output_type": "stream",
     "text": [
      "traveller pushed his plate away the time traveller with his mouth which he looked over the smoking ashes under the bright day and on the editor was silent it would not be it to you but the thing s the time traveller holding his hand for the time traveller and then suddenly gave me in a chair and took up the lamp in this respect he was nothing for the darkness being very simple was on down and vanished down and the well opened and the little people were by the current of a dream than an actual loss but a\n"
     ]
    },
    {
     "name": "stderr",
     "output_type": "stream",
     "text": [
      "[epoch:391/500]: 100%|█████████▉| 36000/36019.0 [00:00<00:00, 60964.36it/s, loss:1.215]\n",
      "[epoch:392/500]: 100%|█████████▉| 36000/36019.0 [00:00<00:00, 60810.91it/s, loss:1.260]\n",
      "[epoch:393/500]: 100%|█████████▉| 36000/36019.0 [00:00<00:00, 59949.25it/s, loss:1.051]\n",
      "[epoch:394/500]: 100%|█████████▉| 36000/36019.0 [00:00<00:00, 57877.90it/s, loss:1.278]\n",
      "[epoch:395/500]: 100%|█████████▉| 36000/36019.0 [00:00<00:00, 59849.71it/s, loss:1.026]\n",
      "[epoch:396/500]: 100%|█████████▉| 36000/36019.0 [00:00<00:00, 60049.50it/s, loss:1.263]\n",
      "[epoch:397/500]: 100%|█████████▉| 36000/36019.0 [00:00<00:00, 60504.20it/s, loss:1.214]\n",
      "[epoch:398/500]: 100%|█████████▉| 36000/36019.0 [00:00<00:00, 59651.00it/s, loss:1.135]\n",
      "[epoch:399/500]: 100%|█████████▉| 36000/36019.0 [00:00<00:00, 59701.64it/s, loss:1.012]\n",
      "[epoch:400/500]: 100%|█████████▉| 36000/36019.0 [00:00<00:00, 58678.78it/s, loss:1.191]\n"
     ]
    },
    {
     "name": "stdout",
     "output_type": "stream",
     "text": [
      "traveller s return so i came back to the starting point of the morning i saw what next had been it on the organism but clearly the old order was already at first i took the starting lever in the open air of bright for which ago me i felt the box of it on the ground but it was yet early in the night and the darker hours before that i was still on the hillside and as it seemed to me that it was too late the night before me she was lying in the face of the white\n"
     ]
    },
    {
     "name": "stderr",
     "output_type": "stream",
     "text": [
      "[epoch:401/500]: 100%|█████████▉| 36000/36019.0 [00:00<00:00, 60351.15it/s, loss:1.119]\n",
      "[epoch:402/500]: 100%|█████████▉| 36000/36019.0 [00:00<00:00, 58727.74it/s, loss:1.121]\n",
      "[epoch:403/500]: 100%|█████████▉| 36000/36019.0 [00:00<00:00, 59750.07it/s, loss:1.182]\n",
      "[epoch:404/500]: 100%|█████████▉| 36000/36019.0 [00:00<00:00, 58016.81it/s, loss:1.300]\n",
      "[epoch:405/500]: 100%|█████████▉| 36000/36019.0 [00:00<00:00, 59701.57it/s, loss:1.266]\n",
      "[epoch:406/500]: 100%|█████████▉| 36000/36019.0 [00:00<00:00, 61067.97it/s, loss:1.258]\n",
      "[epoch:407/500]: 100%|█████████▉| 36000/36019.0 [00:00<00:00, 59210.59it/s, loss:1.255]\n",
      "[epoch:408/500]: 100%|█████████▉| 36000/36019.0 [00:00<00:00, 58774.58it/s, loss:1.185]\n",
      "[epoch:409/500]: 100%|█████████▉| 36000/36019.0 [00:00<00:00, 59849.30it/s, loss:1.182]\n",
      "[epoch:410/500]: 100%|█████████▉| 36000/36019.0 [00:00<00:00, 60200.81it/s, loss:1.292]\n"
     ]
    },
    {
     "name": "stdout",
     "output_type": "stream",
     "text": [
      "traveller s return detained he asks me and so it i was to be that i would be found the world was very stuffy and oppressive that the work was the same i looked at the lawn again it was too than a different spider about up a project gutenberg tm electronic work is posted with the permission of the copyright holder your use and distribution must be the more of the stars growing slower and the upper i had been without desolate done i knew i had felt left and while i stood with my heart in a corner and\n"
     ]
    },
    {
     "name": "stderr",
     "output_type": "stream",
     "text": [
      "[epoch:411/500]: 100%|█████████▉| 36000/36019.0 [00:00<00:00, 60249.98it/s, loss:0.920]\n",
      "[epoch:412/500]: 100%|█████████▉| 36000/36019.0 [00:00<00:00, 60605.98it/s, loss:1.265]\n",
      "[epoch:413/500]: 100%|█████████▉| 36000/36019.0 [00:00<00:00, 58298.73it/s, loss:0.959]\n",
      "[epoch:414/500]: 100%|█████████▉| 36000/36019.0 [00:00<00:00, 59949.01it/s, loss:1.002]\n",
      "[epoch:415/500]: 100%|█████████▉| 36000/36019.0 [00:00<00:00, 61643.92it/s, loss:1.225]\n",
      "[epoch:416/500]: 100%|█████████▉| 36000/36019.0 [00:00<00:00, 59161.18it/s, loss:1.167]\n",
      "[epoch:417/500]: 100%|█████████▉| 36000/36019.0 [00:00<00:00, 59405.83it/s, loss:1.233]\n",
      "[epoch:418/500]: 100%|█████████▉| 36000/36019.0 [00:00<00:00, 59355.81it/s, loss:1.108]\n",
      "[epoch:419/500]: 100%|█████████▉| 36000/36019.0 [00:00<00:00, 59258.34it/s, loss:1.209]\n",
      "[epoch:420/500]: 100%|█████████▉| 36000/36019.0 [00:00<00:00, 58064.50it/s, loss:1.146]\n"
     ]
    },
    {
     "name": "stdout",
     "output_type": "stream",
     "text": [
      "traveller s words we should have shown him far less than the smoke the time traveller s words we should travel through the night upon that i was not unhinged properly at that the time traveller laughed cheerfully well he said with a reminiscence of the well i was no such of them and when i saw one little thing the people were very sore i carefully lowered weena from her in which however if they were very badly i don t know what you may do that he swept back into the past and fell among the blood drinking hairy\n"
     ]
    },
    {
     "name": "stderr",
     "output_type": "stream",
     "text": [
      "[epoch:421/500]: 100%|█████████▉| 36000/36019.0 [00:00<00:00, 59849.78it/s, loss:0.845]\n",
      "[epoch:422/500]: 100%|█████████▉| 36000/36019.0 [00:00<00:00, 60758.52it/s, loss:1.156]\n",
      "[epoch:423/500]: 100%|█████████▉| 36000/36019.0 [00:00<00:00, 60000.08it/s, loss:0.995]\n",
      "[epoch:424/500]: 100%|█████████▉| 36000/36019.0 [00:00<00:00, 57552.99it/s, loss:1.016]\n",
      "[epoch:425/500]: 100%|█████████▉| 36000/36019.0 [00:00<00:00, 60000.15it/s, loss:1.325]\n",
      "[epoch:426/500]: 100%|█████████▉| 36000/36019.0 [00:00<00:00, 59651.22it/s, loss:1.097]\n",
      "[epoch:427/500]: 100%|█████████▉| 36000/36019.0 [00:00<00:00, 59750.24it/s, loss:1.124]\n",
      "[epoch:428/500]: 100%|█████████▉| 36000/36019.0 [00:00<00:00, 59504.32it/s, loss:1.001]\n",
      "[epoch:429/500]: 100%|█████████▉| 36000/36019.0 [00:00<00:00, 59356.04it/s, loss:1.288]\n",
      "[epoch:430/500]: 100%|█████████▉| 36000/36019.0 [00:00<00:00, 59308.32it/s, loss:1.075]\n"
     ]
    },
    {
     "name": "stdout",
     "output_type": "stream",
     "text": [
      "traveller pushed his plate away the medical man was standing before the fire of a wheel spinning or more drawn and i failed the door of the little mechanism which we have been met the most red hot dome of the sun red and motionless the rocks about me in the moment was done we could not imagine the mystery if it there not a word said he can go back against the present traveller not to his skull feels much as i say i had such a question indeed as i put it in a foolish jar that must inevitably\n"
     ]
    },
    {
     "name": "stderr",
     "output_type": "stream",
     "text": [
      "[epoch:431/500]: 100%|█████████▉| 36000/36019.0 [00:00<00:00, 58678.69it/s, loss:1.192]\n",
      "[epoch:432/500]: 100%|█████████▉| 36000/36019.0 [00:00<00:00, 61067.97it/s, loss:1.084]\n",
      "[epoch:433/500]: 100%|█████████▉| 36000/36019.0 [00:00<00:00, 61016.69it/s, loss:1.299]\n",
      "[epoch:434/500]: 100%|█████████▉| 36000/36019.0 [00:00<00:00, 62336.67it/s, loss:1.026]\n",
      "[epoch:435/500]: 100%|█████████▉| 36000/36019.0 [00:00<00:00, 61120.74it/s, loss:1.046]\n",
      "[epoch:436/500]: 100%|█████████▉| 36000/36019.0 [00:00<00:00, 58774.62it/s, loss:1.128]\n",
      "[epoch:437/500]: 100%|█████████▉| 36000/36019.0 [00:00<00:00, 59651.31it/s, loss:1.357]\n",
      "[epoch:438/500]: 100%|█████████▉| 36000/36019.0 [00:00<00:00, 58252.58it/s, loss:1.040]\n",
      "[epoch:439/500]: 100%|█████████▉| 36000/36019.0 [00:00<00:00, 59356.32it/s, loss:1.069]\n",
      "[epoch:440/500]: 100%|█████████▉| 36000/36019.0 [00:00<00:00, 59900.04it/s, loss:1.147]\n"
     ]
    },
    {
     "name": "stdout",
     "output_type": "stream",
     "text": [
      "traveller came to my head he was a slight apartment and the grotesque queer sound and then the round sunset of the beautiful overworlders and in spite of the darkness i heard a match and went down i lit another match i saw a sun in the air that one sees on a hundred or the earth nearer the exclusive of our host you and the whole future were gone i had not the faintest idea in what direction lay my path for all right of replacement or fitness for any purpose f some box of the project gutenberg tm electronic\n"
     ]
    },
    {
     "name": "stderr",
     "output_type": "stream",
     "text": [
      "[epoch:441/500]: 100%|█████████▉| 36000/36019.0 [00:00<00:00, 60250.12it/s, loss:1.139]\n",
      "[epoch:442/500]: 100%|█████████▉| 36000/36019.0 [00:00<00:00, 58774.55it/s, loss:0.970]\n",
      "[epoch:443/500]: 100%|█████████▉| 36000/36019.0 [00:00<00:00, 59800.74it/s, loss:1.161]\n",
      "[epoch:444/500]: 100%|█████████▉| 36000/36019.0 [00:00<00:00, 59750.38it/s, loss:1.195]\n",
      "[epoch:445/500]: 100%|█████████▉| 36000/36019.0 [00:00<00:00, 59650.65it/s, loss:1.193]\n",
      "[epoch:446/500]: 100%|█████████▉| 36000/36019.0 [00:00<00:00, 58920.00it/s, loss:0.995]\n",
      "[epoch:447/500]: 100%|█████████▉| 36000/36019.0 [00:00<00:00, 59750.02it/s, loss:1.117]\n",
      "[epoch:448/500]: 100%|█████████▉| 36000/36019.0 [00:00<00:00, 61120.62it/s, loss:1.098]\n",
      "[epoch:449/500]: 100%|█████████▉| 36000/36019.0 [00:00<00:00, 60467.18it/s, loss:1.272]\n",
      "[epoch:450/500]: 100%|█████████▉| 36000/36019.0 [00:00<00:00, 58298.53it/s, loss:1.059]\n"
     ]
    },
    {
     "name": "stdout",
     "output_type": "stream",
     "text": [
      "traveller s face over the parapet and smiled to reassure her then i began to tell over the parapet for the climbing hooks rather hastily as one as are in the corner of this license can be the trademark and any project gutenberg tm electronic works if you paid the fee for the following the foundation s ein or federal tax identification number is contributions to a general dwindling in all the time machine for its years i was still to the skin fine and i was to see the time traveller s return xvi after all right of the united\n"
     ]
    },
    {
     "name": "stderr",
     "output_type": "stream",
     "text": [
      "[epoch:451/500]: 100%|█████████▉| 36000/36019.0 [00:00<00:00, 60301.54it/s, loss:0.977]\n",
      "[epoch:452/500]: 100%|█████████▉| 36000/36019.0 [00:00<00:00, 59258.21it/s, loss:0.938]\n",
      "[epoch:453/500]: 100%|█████████▉| 36000/36019.0 [00:00<00:00, 57692.30it/s, loss:1.138]\n",
      "[epoch:454/500]: 100%|█████████▉| 36000/36019.0 [00:00<00:00, 58678.71it/s, loss:1.102]\n",
      "[epoch:455/500]: 100%|█████████▉| 36000/36019.0 [00:00<00:00, 59454.01it/s, loss:0.913]\n",
      "[epoch:456/500]: 100%|█████████▉| 36000/36019.0 [00:00<00:00, 59884.36it/s, loss:1.140]\n",
      "[epoch:457/500]: 100%|█████████▉| 36000/36019.0 [00:00<00:00, 60452.68it/s, loss:1.115]\n",
      "[epoch:458/500]: 100%|█████████▉| 36000/36019.0 [00:00<00:00, 61329.03it/s, loss:1.081]\n",
      "[epoch:459/500]: 100%|█████████▉| 36000/36019.0 [00:00<00:00, 60049.07it/s, loss:1.144]\n",
      "[epoch:460/500]: 100%|█████████▉| 36000/36019.0 [00:00<00:00, 59063.77it/s, loss:1.172]\n"
     ]
    },
    {
     "name": "stdout",
     "output_type": "stream",
     "text": [
      "traveller s return xvi after all round him and spoke to what end or be in some way unreal but i know i felt as i was watching the door i lit a match and as much as the darkness was in the air my way and the camphor i had matches with my hands some were to some figure in the morning and drove them in a strange world i had seen nothing on the hill that night and in the confidence in my own and plausible to me to twinkle very little suddenly i looked about me to do\n"
     ]
    },
    {
     "name": "stderr",
     "output_type": "stream",
     "text": [
      "[epoch:461/500]: 100%|█████████▉| 36000/36019.0 [00:00<00:00, 60504.15it/s, loss:1.066]\n",
      "[epoch:462/500]: 100%|█████████▉| 36000/36019.0 [00:00<00:00, 60351.29it/s, loss:1.246]\n",
      "[epoch:463/500]: 100%|█████████▉| 36000/36019.0 [00:00<00:00, 59113.51it/s, loss:1.133]\n",
      "[epoch:464/500]: 100%|█████████▉| 36000/36019.0 [00:00<00:00, 59949.22it/s, loss:1.142]\n",
      "[epoch:465/500]: 100%|█████████▉| 36000/36019.0 [00:00<00:00, 57278.33it/s, loss:0.993]\n",
      "[epoch:466/500]: 100%|█████████▉| 36000/36019.0 [00:00<00:00, 59406.02it/s, loss:1.063]\n",
      "[epoch:467/500]: 100%|█████████▉| 36000/36019.0 [00:00<00:00, 60758.37it/s, loss:0.975]\n",
      "[epoch:468/500]: 100%|█████████▉| 36000/36019.0 [00:00<00:00, 60021.79it/s, loss:1.048]\n",
      "[epoch:469/500]: 100%|█████████▉| 36000/36019.0 [00:00<00:00, 60499.13it/s, loss:0.996]\n",
      "[epoch:470/500]: 100%|█████████▉| 36000/36019.0 [00:00<00:00, 59161.04it/s, loss:0.950]\n"
     ]
    },
    {
     "name": "stdout",
     "output_type": "stream",
     "text": [
      "traveller s return xvi after all other the project gutenberg literary archive foundation the project gutenberg literary archive foundation the project gutenberg literary archive foundation royalty provide or other immediate access to the full extent permitted by u s federal law the fee or entity to whom you paid in the united states you will have to check the laws of the country where you are located before using this ebook or any files containing a fire from the person or entity to whom you paid the fee as set forth in section below f f project gutenberg tm electronic works\n"
     ]
    },
    {
     "name": "stderr",
     "output_type": "stream",
     "text": [
      "[epoch:471/500]: 100%|█████████▉| 36000/36019.0 [00:00<00:00, 57233.97it/s, loss:1.026]\n",
      "[epoch:472/500]: 100%|█████████▉| 36000/36019.0 [00:00<00:00, 59552.40it/s, loss:0.932]\n",
      "[epoch:473/500]: 100%|█████████▉| 36000/36019.0 [00:00<00:00, 60149.46it/s, loss:0.840]\n",
      "[epoch:474/500]: 100%|█████████▉| 36000/36019.0 [00:00<00:00, 60708.25it/s, loss:1.080]\n",
      "[epoch:475/500]: 100%|█████████▉| 36000/36019.0 [00:00<00:00, 59455.96it/s, loss:0.910]\n",
      "[epoch:476/500]: 100%|█████████▉| 36000/36019.0 [00:00<00:00, 61017.06it/s, loss:1.058]\n",
      "[epoch:477/500]: 100%|█████████▉| 36000/36019.0 [00:00<00:00, 58678.97it/s, loss:0.974]\n",
      "[epoch:478/500]: 100%|█████████▉| 36000/36019.0 [00:00<00:00, 61067.89it/s, loss:0.981]\n",
      "[epoch:479/500]: 100%|█████████▉| 36000/36019.0 [00:00<00:00, 58346.92it/s, loss:0.952]\n",
      "[epoch:480/500]: 100%|█████████▉| 36000/36019.0 [00:00<00:00, 59454.32it/s, loss:1.047]\n"
     ]
    },
    {
     "name": "stdout",
     "output_type": "stream",
     "text": [
      "traveller s return so i came and the fa ade had an oriental look they came and as being a very strange and the creature though some time brightening and truly taking it will he hesitated his eye over the shoulder of his story he said what we thought of the time traveller any more than they not now it is to stick in the sunlight as if he could not the morlocks as i went on the machine you showed that it s too when i saw that i could sleep well that gallery and the red view of the\n"
     ]
    },
    {
     "name": "stderr",
     "output_type": "stream",
     "text": [
      "[epoch:481/500]: 100%|█████████▉| 36000/36019.0 [00:00<00:00, 58346.78it/s, loss:1.007]\n",
      "[epoch:482/500]: 100%|█████████▉| 36000/36019.0 [00:00<00:00, 57369.64it/s, loss:0.876]\n",
      "[epoch:483/500]: 100%|█████████▉| 36000/36019.0 [00:00<00:00, 60149.27it/s, loss:1.186]\n",
      "[epoch:484/500]: 100%|█████████▉| 36000/36019.0 [00:00<00:00, 59504.29it/s, loss:1.034]\n",
      "[epoch:485/500]: 100%|█████████▉| 36000/36019.0 [00:00<00:00, 60351.02it/s, loss:1.076]\n",
      "[epoch:486/500]: 100%|█████████▉| 36000/36019.0 [00:00<00:00, 59602.76it/s, loss:0.993]\n",
      "[epoch:487/500]: 100%|█████████▉| 36000/36019.0 [00:00<00:00, 60861.20it/s, loss:0.943]\n",
      "[epoch:488/500]: 100%|█████████▉| 36000/36019.0 [00:00<00:00, 59190.14it/s, loss:1.040]\n",
      "[epoch:489/500]: 100%|█████████▉| 36000/36019.0 [00:00<00:00, 60913.84it/s, loss:0.911]\n",
      "[epoch:490/500]: 100%|█████████▉| 36000/36019.0 [00:00<00:00, 57645.41it/s, loss:0.975]\n"
     ]
    },
    {
     "name": "stdout",
     "output_type": "stream",
     "text": [
      "traveller s shoulder you don t believe it well from below the mystery if the earth s not trace this line of it in my pocket and now a white sphinx upon the further in the light the time traveller was not there were three circumstances in particular which made me when i saw me i had the hardest task in the darkness i had walked apparently this section me with it a peculiar a minute he put in my hand for a match and a white man of our own times and as its knows now that had a dim\n"
     ]
    },
    {
     "name": "stderr",
     "output_type": "stream",
     "text": [
      "[epoch:491/500]: 100%|█████████▉| 36000/36019.0 [00:00<00:00, 60758.89it/s, loss:0.847]\n",
      "[epoch:492/500]: 100%|█████████▉| 36000/36019.0 [00:00<00:00, 60301.62it/s, loss:1.046]\n",
      "[epoch:493/500]: 100%|█████████▉| 36000/36019.0 [00:00<00:00, 59454.25it/s, loss:1.086]\n",
      "[epoch:494/500]: 100%|█████████▉| 36000/36019.0 [00:00<00:00, 59405.90it/s, loss:0.884]\n",
      "[epoch:495/500]: 100%|█████████▉| 36000/36019.0 [00:00<00:00, 59552.29it/s, loss:1.004]\n",
      "[epoch:496/500]: 100%|█████████▉| 36000/36019.0 [00:00<00:00, 60656.06it/s, loss:0.884]\n",
      "[epoch:497/500]: 100%|█████████▉| 36000/36019.0 [00:00<00:00, 58919.98it/s, loss:1.040]\n",
      "[epoch:498/500]: 100%|█████████▉| 36000/36019.0 [00:00<00:00, 58967.36it/s, loss:1.029]\n",
      "[epoch:499/500]: 100%|█████████▉| 36000/36019.0 [00:00<00:00, 58346.72it/s, loss:1.022]\n",
      "[epoch:500/500]: 100%|█████████▉| 36000/36019.0 [00:00<00:00, 58678.58it/s, loss:0.836]\n"
     ]
    },
    {
     "name": "stdout",
     "output_type": "stream",
     "text": [
      "traveller s face iv time travelling and this time travelling i had mastered the problem of the world mastered the whole secret of these delicious people possibly the checks they had devised for the increase of population had succeeded too well and these things to the pedestal it appeared to be broken in a corner of light among the eloi were before the old might be hidden in a corner and then stopped the fire came on and the increased grew upon the south westward towards the time machine and very vaguely there came a suggestion towards the solution of the\n",
      "traveller s face iv time travelling and this time travelling i had mastered the problem of the world mastered the whole secret of these delicious people possibly the checks they had devised for the increase of population had succeeded too well and these things to the pedestal it appeared to be broken in a corner of light among the eloi were before the old might be hidden in a corner and then stopped the fire came on and the increased grew upon the south westward towards the time machine and very vaguely there came a suggestion towards the solution of the\n",
      "traveller s face iv time travelling and this time travelling i had mastered the problem of the world mastered the whole secret of these delicious people possibly the checks they had devised for the increase of population had succeeded too well and these things to the pedestal it appeared to be broken in a corner of light among the eloi were before the old might be hidden in a corner and then stopped the fire came on and the increased grew upon the south westward towards the time machine and very vaguely there came a suggestion towards the solution of the\n"
     ]
    }
   ],
   "source": [
    "trainer(rnn_net, data_iter, vocab=time_machine_corpus, lr=args.lr, num_epochs=args.num_epochs,device=args.device,use_random_iter=True)"
   ]
  }
 ],
 "metadata": {
  "kernelspec": {
   "display_name": "pytorch_cpu",
   "language": "python",
   "name": "python3"
  },
  "language_info": {
   "codemirror_mode": {
    "name": "ipython",
    "version": 3
   },
   "file_extension": ".py",
   "mimetype": "text/x-python",
   "name": "python",
   "nbconvert_exporter": "python",
   "pygments_lexer": "ipython3",
   "version": "3.11.5"
  }
 },
 "nbformat": 4,
 "nbformat_minor": 2
}
