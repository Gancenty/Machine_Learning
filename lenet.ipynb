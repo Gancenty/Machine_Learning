{
 "cells": [
  {
   "cell_type": "code",
   "execution_count": 1,
   "metadata": {},
   "outputs": [
    {
     "data": {
      "image/png": "[encoded data removed]",
      "text/plain": [
       "<Figure size 1350x300 with 18 Axes>"
      ]
     },
     "metadata": {},
     "output_type": "display_data"
    }
   ],
   "source": [
    "import torch\n",
    "import torchvision\n",
    "import numpy as np\n",
    "import torch.nn as nn\n",
    "import matplotlib.pyplot as plt\n",
    "from torch.utils import data\n",
    "from torchvision import transforms\n",
    "from tqdm import tqdm\n",
    "\n",
    "myseed = 1314  # set a random seed for reproducibility\n",
    "torch.backends.cudnn.deterministic = True\n",
    "torch.backends.cudnn.benchmark = False\n",
    "np.random.seed(myseed)\n",
    "torch.manual_seed(myseed)\n",
    "if torch.cuda.is_available():\n",
    "    torch.cuda.manual_seed_all(myseed)\n",
    "\n",
    "trans = transforms.ToTensor()\n",
    "train_data = torchvision.datasets.MNIST(\n",
    "    root=\"./MNIST\", train=True, transform=trans, download=True)\n",
    "test_data  = torchvision.datasets.MNIST(\n",
    "    root=\"./MNIST\", train=False, transform=trans, download=True)\n",
    "device  = torch.device('cuda' if torch.cuda.is_available else 'cpu')\n",
    "\n",
    "BATCH_SIZE = 512  \n",
    "\n",
    "train_dataloader = data.DataLoader(dataset = train_data,batch_size = BATCH_SIZE,shuffle = True)\n",
    "test_dataloader  = data.DataLoader(dataset = test_data,batch_size = 1000)\n",
    "\n",
    "class_str = [\"T-shirt\",\"Trouser\",\"Pullover\",\"Dress\",\"Coat\",\"Sandal\",\"Shirt\",\"Sneaker\",\"Bag\",\"Ankel boot\"]\n",
    "\n",
    "def get_class(indices):\n",
    "    return class_str[int(indices)]\n",
    "\n",
    "def show_img(img,label,nrow,ncol,scale=1.5):\n",
    "    fig,axes = plt.subplots(nrow,ncol, figsize=(ncol*scale,nrow*scale)) \n",
    "    axes = axes.flatten()\n",
    "    for i,(img,ax) in enumerate(zip(img,axes)):\n",
    "        ax.imshow(img.squeeze(),cmap=\"Greys\")\n",
    "        ax.set_title(get_class(label[i]))\n",
    "        ax.axis('off')\n",
    "    plt.show()\n",
    "\n",
    "x, y = next(iter(train_dataloader))\n",
    "show_img(x,y,2,9)"
   ]
  },
  {
   "cell_type": "code",
   "execution_count": 2,
   "metadata": {},
   "outputs": [
    {
     "name": "stdout",
     "output_type": "stream",
     "text": [
      "Name: Conv2d     output shape:  torch.Size([2, 6, 28, 28])\n",
      "Name: ReLU       output shape:  torch.Size([2, 6, 28, 28])\n",
      "Name: MaxPool2d  output shape:  torch.Size([2, 6, 14, 14])\n",
      "Name: Conv2d     output shape:  torch.Size([2, 16, 10, 10])\n",
      "Name: ReLU       output shape:  torch.Size([2, 16, 10, 10])\n",
      "Name: MaxPool2d  output shape:  torch.Size([2, 16, 5, 5])\n",
      "Name: Flatten    output shape:  torch.Size([2, 400])\n",
      "Name: Linear     output shape:  torch.Size([2, 120])\n",
      "Name: ReLU       output shape:  torch.Size([2, 120])\n",
      "Name: Linear     output shape:  torch.Size([2, 84])\n",
      "Name: ReLU       output shape:  torch.Size([2, 84])\n",
      "Name: Linear     output shape:  torch.Size([2, 10])\n"
     ]
    }
   ],
   "source": [
    "class LeNet(nn.Module):\n",
    "    def __init__(self) -> None:\n",
    "        super().__init__()\n",
    "        self.layers = nn.Sequential(\n",
    "            nn.Conv2d(1,6,kernel_size=5,stride=1,padding=2),nn.ReLU(),\n",
    "            nn.MaxPool2d(kernel_size=2,stride=2),\n",
    "            nn.Conv2d(6,16,kernel_size=5,stride=1),nn.ReLU(),\n",
    "            nn.MaxPool2d(kernel_size=2,stride=2),\n",
    "            nn.Flatten(1),\n",
    "            nn.Linear(16*5*5,120),nn.ReLU(),\n",
    "            nn.Linear(120,84),nn.ReLU(),\n",
    "            nn.Linear(84,10),\n",
    "        )\n",
    "\n",
    "    def forward(self,x):\n",
    "        x = self.layers(x)\n",
    "        return x\n",
    "    \n",
    "x = torch.randn((2,1,28,28))\n",
    "lenet = LeNet()\n",
    "for layer in lenet.layers:\n",
    "    x = layer(x)\n",
    "    print(\"Name: %-10s\"%(layer.__class__.__name__),'output shape: ',x.shape)"
   ]
  },
  {
   "cell_type": "code",
   "execution_count": 3,
   "metadata": {},
   "outputs": [
    {
     "name": "stderr",
     "output_type": "stream",
     "text": [
      "Epoch:[01/20]: 100%|██████████| 60416/60416 [00:04<00:00, 13031.45it/s, loss=0.304]\n"
     ]
    },
    {
     "name": "stdout",
     "output_type": "stream",
     "text": [
      "Acc:90%\n"
     ]
    },
    {
     "name": "stderr",
     "output_type": "stream",
     "text": [
      "Epoch:[02/20]: 100%|██████████| 60416/60416 [00:02<00:00, 20827.27it/s, loss=0.132]\n"
     ]
    },
    {
     "name": "stdout",
     "output_type": "stream",
     "text": [
      "Acc:92%\n"
     ]
    },
    {
     "name": "stderr",
     "output_type": "stream",
     "text": [
      "Epoch:[03/20]: 100%|██████████| 60416/60416 [00:03<00:00, 16270.99it/s, loss=0.113] \n"
     ]
    },
    {
     "name": "stdout",
     "output_type": "stream",
     "text": [
      "Acc:92%\n"
     ]
    },
    {
     "name": "stderr",
     "output_type": "stream",
     "text": [
      "Epoch:[04/20]: 100%|██████████| 60416/60416 [00:03<00:00, 16448.53it/s, loss=0.113] \n"
     ]
    },
    {
     "name": "stdout",
     "output_type": "stream",
     "text": [
      "Acc:89%\n"
     ]
    },
    {
     "name": "stderr",
     "output_type": "stream",
     "text": [
      "Epoch:[05/20]: 100%|██████████| 60416/60416 [00:03<00:00, 16611.68it/s, loss=0.0644]\n"
     ]
    },
    {
     "name": "stdout",
     "output_type": "stream",
     "text": [
      "Acc:97%\n"
     ]
    },
    {
     "name": "stderr",
     "output_type": "stream",
     "text": [
      "Epoch:[06/20]: 100%|██████████| 60416/60416 [00:03<00:00, 16876.40it/s, loss=0.107] \n"
     ]
    },
    {
     "name": "stdout",
     "output_type": "stream",
     "text": [
      "Acc:96%\n"
     ]
    },
    {
     "name": "stderr",
     "output_type": "stream",
     "text": [
      "Epoch:[07/20]: 100%|██████████| 60416/60416 [00:03<00:00, 16875.15it/s, loss=0.065] \n"
     ]
    },
    {
     "name": "stdout",
     "output_type": "stream",
     "text": [
      "Acc:97%\n"
     ]
    },
    {
     "name": "stderr",
     "output_type": "stream",
     "text": [
      "Epoch:[08/20]: 100%|██████████| 60416/60416 [00:03<00:00, 16431.49it/s, loss=0.0675]\n"
     ]
    },
    {
     "name": "stdout",
     "output_type": "stream",
     "text": [
      "Acc:97%\n"
     ]
    },
    {
     "name": "stderr",
     "output_type": "stream",
     "text": [
      "Epoch:[09/20]: 100%|██████████| 60416/60416 [00:03<00:00, 16723.81it/s, loss=0.05]  \n"
     ]
    },
    {
     "name": "stdout",
     "output_type": "stream",
     "text": [
      "Acc:95%\n"
     ]
    },
    {
     "name": "stderr",
     "output_type": "stream",
     "text": [
      "Epoch:[10/20]: 100%|██████████| 60416/60416 [00:03<00:00, 16856.51it/s, loss=0.0527]\n"
     ]
    },
    {
     "name": "stdout",
     "output_type": "stream",
     "text": [
      "Acc:96%\n"
     ]
    },
    {
     "name": "stderr",
     "output_type": "stream",
     "text": [
      "Epoch:[11/20]: 100%|██████████| 60416/60416 [00:03<00:00, 16827.65it/s, loss=0.00604]\n"
     ]
    },
    {
     "name": "stdout",
     "output_type": "stream",
     "text": [
      "Acc:98%\n"
     ]
    },
    {
     "name": "stderr",
     "output_type": "stream",
     "text": [
      "Epoch:[12/20]: 100%|██████████| 60416/60416 [00:03<00:00, 16460.63it/s, loss=0.0142]\n"
     ]
    },
    {
     "name": "stdout",
     "output_type": "stream",
     "text": [
      "Acc:98%\n"
     ]
    },
    {
     "name": "stderr",
     "output_type": "stream",
     "text": [
      "Epoch:[13/20]: 100%|██████████| 60416/60416 [00:03<00:00, 16485.61it/s, loss=0.018] \n"
     ]
    },
    {
     "name": "stdout",
     "output_type": "stream",
     "text": [
      "Acc:98%\n"
     ]
    },
    {
     "name": "stderr",
     "output_type": "stream",
     "text": [
      "Epoch:[14/20]: 100%|██████████| 60416/60416 [00:03<00:00, 16581.93it/s, loss=0.111] \n"
     ]
    },
    {
     "name": "stdout",
     "output_type": "stream",
     "text": [
      "Acc:95%\n"
     ]
    },
    {
     "name": "stderr",
     "output_type": "stream",
     "text": [
      "Epoch:[15/20]: 100%|██████████| 60416/60416 [00:03<00:00, 16698.29it/s, loss=0.117] \n"
     ]
    },
    {
     "name": "stdout",
     "output_type": "stream",
     "text": [
      "Acc:96%\n"
     ]
    },
    {
     "name": "stderr",
     "output_type": "stream",
     "text": [
      "Epoch:[16/20]: 100%|██████████| 60416/60416 [00:03<00:00, 16884.60it/s, loss=0.0318]\n"
     ]
    },
    {
     "name": "stdout",
     "output_type": "stream",
     "text": [
      "Acc:97%\n"
     ]
    },
    {
     "name": "stderr",
     "output_type": "stream",
     "text": [
      "Epoch:[17/20]: 100%|██████████| 60416/60416 [00:03<00:00, 16841.70it/s, loss=0.0089]\n"
     ]
    },
    {
     "name": "stdout",
     "output_type": "stream",
     "text": [
      "Acc:98%\n"
     ]
    },
    {
     "name": "stderr",
     "output_type": "stream",
     "text": [
      "Epoch:[18/20]: 100%|██████████| 60416/60416 [00:03<00:00, 16610.82it/s, loss=0.0466]\n"
     ]
    },
    {
     "name": "stdout",
     "output_type": "stream",
     "text": [
      "Acc:98%\n"
     ]
    },
    {
     "name": "stderr",
     "output_type": "stream",
     "text": [
      "Epoch:[19/20]: 100%|██████████| 60416/60416 [00:03<00:00, 16964.07it/s, loss=0.0137] \n"
     ]
    },
    {
     "name": "stdout",
     "output_type": "stream",
     "text": [
      "Acc:98%\n"
     ]
    },
    {
     "name": "stderr",
     "output_type": "stream",
     "text": [
      "Epoch:[20/20]: 100%|██████████| 60416/60416 [00:03<00:00, 16604.67it/s, loss=0.0118]\n"
     ]
    },
    {
     "name": "stdout",
     "output_type": "stream",
     "text": [
      "Acc:98%\n"
     ]
    }
   ],
   "source": [
    "def accuracy(y_pred,y):\n",
    "    y_pred = y_pred.softmax(1).argmax(1)\n",
    "    total = y.shape[0]\n",
    "    right = (y_pred == y).sum()\n",
    "    print(\"Acc:%d%%\"%(right/total*100))\n",
    "    return (right,total)\n",
    "\n",
    "\n",
    "def train(train_loader,test_loader,model,n_epoch,lr,device):\n",
    "    def init_weights(m):\n",
    "        if type(m) == nn.Linear or type(m) == nn.Conv2d:\n",
    "            nn.init.xavier_uniform_(m.weight)\n",
    "    model.apply(init_weights)\n",
    "    model.to(device)\n",
    "    optim = torch.optim.SGD(model.parameters(),lr)\n",
    "    criterion = torch.nn.CrossEntropyLoss()\n",
    "    for epoch in range(n_epoch):\n",
    "        bar = tqdm(train_loader,total=len(train_loader),unit_scale=BATCH_SIZE)\n",
    "        for x,y in bar:\n",
    "            optim.zero_grad()\n",
    "            x,y = x.to(device),y.to(device)\n",
    "            pred = model(x)\n",
    "            loss = criterion(pred,y)\n",
    "            loss.backward()\n",
    "            optim.step()\n",
    "            bar.set_description(f'Epoch:[{epoch+1:02d}/{n_epoch}]')\n",
    "            bar.set_postfix(loss=float(loss))\n",
    "        with torch.no_grad():\n",
    "            for x,y in test_loader:\n",
    "                x,y = x.to(device),y.to(device)\n",
    "                pred = model(x)\n",
    "                accuracy(pred,y)\n",
    "                break\n",
    "            \n",
    "train(train_dataloader,test_dataloader,model=lenet,n_epoch=20,lr=0.06,device=device)"
   ]
  },
  {
   "cell_type": "code",
   "execution_count": null,
   "metadata": {},
   "outputs": [],
   "source": [
    "torch.save(lenet.state_dict(),'lenet')"
   ]
  }
 ],
 "metadata": {
  "kernelspec": {
   "display_name": "pytorch_gpu",
   "language": "python",
   "name": "python3"
  },
  "language_info": {
   "codemirror_mode": {
    "name": "ipython",
    "version": 3
   },
   "file_extension": ".py",
   "mimetype": "text/x-python",
   "name": "python",
   "nbconvert_exporter": "python",
   "pygments_lexer": "ipython3",
   "version": "3.11.5"
  }
 },
 "nbformat": 4,
 "nbformat_minor": 2
}
