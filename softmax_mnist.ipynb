{
 "cells": [
  {
   "cell_type": "code",
   "execution_count": 1,
   "metadata": {},
   "outputs": [
    {
     "data": {
      "image/png": "[encoded data removed]",
      "text/plain": [
       "<Figure size 1350x300 with 18 Axes>"
      ]
     },
     "metadata": {},
     "output_type": "display_data"
    }
   ],
   "source": [
    "import torchvision\n",
    "import torch\n",
    "from torch.utils import data\n",
    "from torchvision import transforms\n",
    "import matplotlib.pyplot as plt\n",
    "\n",
    "trans = transforms.ToTensor()\n",
    "train_data = torchvision.datasets.MNIST(\n",
    "    root=\"./MNIST\", train=True, transform=trans, download=False)\n",
    "test_data  = torchvision.datasets.MNIST(\n",
    "    root=\"./MNIST\", train=False, transform=trans, download=False)\n",
    "device  = torch.device('cuda' if torch.cuda.is_available else 'cpu')\n",
    "\n",
    "BATCH_SIZE = 256  \n",
    "\n",
    "train_dataloader = data.DataLoader(dataset = train_data,batch_size = BATCH_SIZE,shuffle = True)\n",
    "test_dataloader  = data.DataLoader(dataset = test_data,batch_size = BATCH_SIZE)\n",
    "\n",
    "def show_img(img,label,nrow,ncol,scale=1.5):\n",
    "    fig,axes = plt.subplots(nrow,ncol, figsize=(ncol*scale,nrow*scale)) \n",
    "    axes = axes.flatten()\n",
    "    for i,(img,ax) in enumerate(zip(img,axes)):\n",
    "        ax.imshow(img.squeeze(),cmap=\"Greys\")\n",
    "        ax.set_title(label[i])\n",
    "        ax.axis('off')\n",
    "    plt.show()\n",
    "\n",
    "x, y = next(iter(train_dataloader))\n",
    "show_img(x,y,2,9)"
   ]
  },
  {
   "cell_type": "code",
   "execution_count": 2,
   "metadata": {},
   "outputs": [],
   "source": [
    "class model(torch.nn.Module):\n",
    "    def __init__(self,in_dims,out_dim):\n",
    "        super().__init__()\n",
    "        self.layers = torch.nn.modules.Sequential(\n",
    "            torch.nn.Linear(in_dims,out_dim),\n",
    "        )\n",
    "    def forward(self,x):\n",
    "        x = self.layers(x)\n",
    "        return x"
   ]
  },
  {
   "cell_type": "code",
   "execution_count": 3,
   "metadata": {},
   "outputs": [],
   "source": [
    "def softmax(x):\n",
    "    x_exp = torch.exp(x)\n",
    "    x_exp_sum = x_exp.sum(1,keepdims=True)\n",
    "    return x_exp/x_exp_sum\n",
    "\n",
    "def cross_entropy(y_hat,y):\n",
    "    return -torch.log(y_hat[range(len(y_hat)),y])\n",
    "\n",
    "def accuracy(y_hat,y):\n",
    "    pred = y_hat.argmax(1)\n",
    "    cmp = pred==y\n",
    "    print(\"Accuracy:%.3f\"%(cmp.sum()/len(y)))\n",
    "\n",
    "# aa = torch.tensor([[0.1,0.2],[0.1,0.2]])\n",
    "# bb = torch.tensor([1,1])\n",
    "# accuracy(aa,bb)\n",
    "\n",
    "# y = torch.tensor([0,2])\n",
    "# y_hat = torch.tensor([[0.1,0.2,0.7],[0.2,0.4,0.4]])\n",
    "# print(y_hat[[0,1,],y])\n",
    "# print(cross_entropy(y_hat,y))"
   ]
  },
  {
   "cell_type": "code",
   "execution_count": 12,
   "metadata": {},
   "outputs": [],
   "source": [
    "# w = torch.normal(0,1,(28*28,10),requires_grad=True)\n",
    "# b = torch.normal(0,1,(10,),requires_grad=True)\n",
    "w = torch.normal(0,1,(28*28,10),requires_grad=True)\n",
    "b = torch.normal(0,1,(10,),requires_grad=True)"
   ]
  },
  {
   "cell_type": "code",
   "execution_count": 13,
   "metadata": {},
   "outputs": [
    {
     "name": "stdout",
     "output_type": "stream",
     "text": [
      "Accuracy:0.723\n",
      "Accuracy:0.809\n",
      "Accuracy:0.852\n"
     ]
    }
   ],
   "source": [
    "n_epoch = 3\n",
    "optimizer = torch.optim.SGD([w,b],0.001)\n",
    "for epoch in range(n_epoch):\n",
    "    for img,label in train_dataloader:\n",
    "        img = img.flatten(1)\n",
    "        y_hat = torch.matmul(img,w)+b\n",
    "        y_hat = softmax(y_hat)\n",
    "        loss = cross_entropy(y_hat,label)\n",
    "        optimizer.zero_grad()\n",
    "        loss.sum().backward()\n",
    "        optimizer.step()\n",
    "    for img,label in test_dataloader:\n",
    "        img = img.flatten(1)\n",
    "        y_hat = torch.matmul(img,w)+b\n",
    "        y_hat = softmax(y_hat)\n",
    "        accuracy(y_hat,label)\n",
    "        break\n",
    "        "
   ]
  },
  {
   "cell_type": "code",
   "execution_count": 14,
   "metadata": {},
   "outputs": [],
   "source": [
    "n_epoch = 3\n",
    "my_model = model(28*28,10).to(device)\n",
    "optimizer = torch.optim.SGD(my_model.parameters(),0.001)\n",
    "criterion = torch.nn.CrossEntropyLoss(reduction='sum')"
   ]
  },
  {
   "cell_type": "code",
   "execution_count": 16,
   "metadata": {},
   "outputs": [
    {
     "name": "stdout",
     "output_type": "stream",
     "text": [
      "Accuracy:0.945\n",
      "Accuracy:0.945\n",
      "Accuracy:0.945\n"
     ]
    }
   ],
   "source": [
    "for epoch in range(n_epoch):\n",
    "    my_model.train()\n",
    "    for img,label in train_dataloader:\n",
    "        img,label = img.to(device),label.to(device)\n",
    "        img = img.flatten(1)\n",
    "        pred = my_model(img)\n",
    "        loss = criterion(pred,label)\n",
    "        optimizer.zero_grad()\n",
    "        loss.backward()\n",
    "        optimizer.step()\n",
    "    my_model.eval()\n",
    "    calcu_acc = []\n",
    "    for img, label in test_dataloader:\n",
    "        with torch.no_grad():\n",
    "            img,label = img.to(device),label.to(device)\n",
    "            img = img.flatten(1)\n",
    "            pred = my_model(img)\n",
    "            pred = pred.softmax(1)\n",
    "            accuracy(pred,label)\n",
    "            break \n",
    "     "
   ]
  },
  {
   "cell_type": "code",
   "execution_count": null,
   "metadata": {},
   "outputs": [],
   "source": [
    "def pred_img(count): # using manual configuration to build model and predict the answer\n",
    "    for img,label in train_dataloader:\n",
    "        img_flatten = img.flatten(1)\n",
    "        y_hat = torch.matmul(img_flatten,w)+b\n",
    "        y_hat = softmax(y_hat)\n",
    "        accuracy(y_hat,label)\n",
    "        pred  = y_hat.argmax(1)\n",
    "        title = ['Pred:' + str(int(i)) + '\\nTrue:' + str(int(j)) + ('\\nx' if int(i)!=int(j) else '') for i,j in zip(pred,label)]\n",
    "        show_img(img,title,3,9,scale=2.5)\n",
    "        count-=1\n",
    "        if count == 0:\n",
    "            return\n",
    "\n",
    "pred_img(1)"
   ]
  },
  {
   "cell_type": "code",
   "execution_count": null,
   "metadata": {},
   "outputs": [],
   "source": [
    "def pred_img(count): # using pytorch to build model and predict the answer\n",
    "    for img,label in train_dataloader:\n",
    "        my_model.eval()\n",
    "        img_flatten = img.flatten(1)\n",
    "        y_hat = my_model(img_flatten)\n",
    "        y_hat = softmax(y_hat)\n",
    "        accuracy(y_hat,label)\n",
    "        pred  = y_hat.argmax(1)\n",
    "        title = ['Pred:' + str(int(i)) + '\\nTrue:' + str(int(j)) + ('\\nx' if int(i)!=int(j) else '') for i,j in zip(pred,label)]\n",
    "        show_img(img,title,3,9,scale=2.5)\n",
    "        count-=1\n",
    "        if count == 0:\n",
    "            return\n",
    "\n",
    "pred_img(1)"
   ]
  }
 ],
 "metadata": {
  "kernelspec": {
   "display_name": "pytorch_cpu",
   "language": "python",
   "name": "python3"
  },
  "language_info": {
   "codemirror_mode": {
    "name": "ipython",
    "version": 3
   },
   "file_extension": ".py",
   "mimetype": "text/x-python",
   "name": "python",
   "nbconvert_exporter": "python",
   "pygments_lexer": "ipython3",
   "version": "3.11.5"
  }
 },
 "nbformat": 4,
 "nbformat_minor": 2
}
