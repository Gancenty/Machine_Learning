{
 "cells": [
  {
   "cell_type": "code",
   "execution_count": 1,
   "metadata": {},
   "outputs": [
    {
     "name": "stdout",
     "output_type": "stream",
     "text": [
      "Image_Count:10000 Solution:28*28\n",
      "Label_Count:10000\n"
     ]
    },
    {
     "data": {
      "image/png": "[encoded data removed]",
      "text/plain": [
       "<Figure size 640x480 with 1 Axes>"
      ]
     },
     "metadata": {},
     "output_type": "display_data"
    }
   ],
   "source": [
    "import torch\n",
    "import matplotlib.pyplot as plt\n",
    "import struct\n",
    "import os\n",
    "\n",
    "\n",
    "def save_mnist_pic(image_dir,label_dir,save_img_count,store_dir='.\\\\img\\\\'):\n",
    "    with open(image_dir,'rb') as fp:\n",
    "        image_info=struct.unpack('>IIII',fp.read(4*4))\n",
    "        if image_info[0] != 0x0803:\n",
    "            print(\"not a mnist file!\")\n",
    "            return None,None\n",
    "        print(\"Image_Count:%d Solution:%d*%d\"%(image_info[1],image_info[2],image_info[3]))\n",
    "        raw_image = fp.read()\n",
    "        pic = torch.zeros(image_info[1],image_info[2],image_info[3])\n",
    "        for i in range(image_info[1]):\n",
    "            x = raw_image[i*28*28:(i+1)*28*28]\n",
    "            x = torch.tensor(list(x)).reshape(28,28)\n",
    "            pic[i,:,:]=x\n",
    "    with open(label_dir,'rb') as fp:\n",
    "        label_info=struct.unpack('>II',fp.read(4*2))\n",
    "        if label_info[0] != 0x0801:\n",
    "            print(\"not a label file!\")\n",
    "            return\n",
    "        print(\"Label_Count:%d\"%(label_info[1]))\n",
    "        if label_info[1] != image_info[1]:\n",
    "            print(\"the label count is not same as the image count!\")\n",
    "            return None,None\n",
    "        raw_label = fp.read()\n",
    "        label = list(raw_label)\n",
    "    os.makedirs(store_dir,exist_ok=True)\n",
    "    for i in range(save_img_count):\n",
    "        plt.imsave(store_dir+str(i)+'.jpg',pic[i],cmap='Greys')\n",
    "    return pic,label\n",
    "\n",
    "\n",
    "train_mnist_pic_dir = os.path.join('./MNIST/MNIST/raw/train-images-idx3-ubyte')\n",
    "train_mnist_label_dir = os.path.join('./MNIST/MNIST/raw/train-labels-idx1-ubyte')\n",
    "\n",
    "test_mnist_pic_dir = os.path.join('./MNIST/MNIST/raw/t10k-images-idx3-ubyte')\n",
    "test_mnist_label_dir = os.path.join('./MNIST/MNIST/raw/t10k-labels-idx1-ubyte')\n",
    "\n",
    "\n",
    "pic,label= save_mnist_pic(test_mnist_pic_dir,test_mnist_label_dir,0)\n",
    "plt.title(str(label[0]),color='r')\n",
    "plt.axis('off')\n",
    "plt.imshow(pic[0],cmap='Greys')\n",
    "plt.show()"
   ]
  },
  {
   "cell_type": "code",
   "execution_count": 2,
   "metadata": {},
   "outputs": [
    {
     "name": "stdout",
     "output_type": "stream",
     "text": [
      "torch.Size([26, 26])\n"
     ]
    },
    {
     "data": {
      "image/png": "[encoded data removed]",
      "text/plain": [
       "<Figure size 640x480 with 1 Axes>"
      ]
     },
     "metadata": {},
     "output_type": "display_data"
    },
    {
     "data": {
      "image/png": "[encoded data removed]",
      "text/plain": [
       "<Figure size 640x480 with 1 Axes>"
      ]
     },
     "metadata": {},
     "output_type": "display_data"
    }
   ],
   "source": [
    "def show_img(img,label):\n",
    "    fig,axes = plt.subplots(1,1) \n",
    "    axes.imshow(img,cmap=\"Greys\")\n",
    "    axes.set_title(label)\n",
    "    axes.axis('off')\n",
    "    plt.show()\n",
    "\n",
    "def corr2D(target,kelnel,stride=1,padding=0):\n",
    "    ret_shape = torch.tensor(target.shape) - torch.tensor(kelnel.shape) + 1 + padding * 2\n",
    "    ret_shape = tuple(ret_shape)\n",
    "    shape = kelnel.shape\n",
    "    ret = torch.zeros(ret_shape)\n",
    "    for i in range(ret_shape[0]):\n",
    "        for j in range(0,ret_shape[1],stride):\n",
    "            ret[i][j] = (kelnel*target[i:i+shape[0],j:j+shape[1]]).sum()\n",
    "    return ret\n",
    "\n",
    "kelnel = torch.tensor([[1,0,-1],[1,0,-1],[1,0,-1]])\n",
    "target = pic[0]\n",
    "ans = corr2D(target,kelnel,1,0)\n",
    "cov = torch.nn.Conv2d(1,1,(3,3),1,0)\n",
    "cov.kernel_size\n",
    "ans2 = cov(target.unsqueeze(0))\n",
    "print(ans.shape)\n",
    "show_img(ans,'1')\n",
    "show_img(ans2.detach().squeeze().numpy(),'2')"
   ]
  },
  {
   "cell_type": "code",
   "execution_count": 9,
   "metadata": {},
   "outputs": [
    {
     "name": "stdout",
     "output_type": "stream",
     "text": [
      "tensor([[[[ 0,  1,  2,  3],\n",
      "          [ 4,  5,  6,  7],\n",
      "          [ 8,  9, 10, 11],\n",
      "          [12, 13, 14, 15]]]])\n",
      "tensor([[[[10, 11],\n",
      "          [14, 15]]]])\n"
     ]
    },
    {
     "name": "stderr",
     "output_type": "stream",
     "text": [
      "c:\\Users\\Gancenty\\.conda\\envs\\pytorch_cpu\\Lib\\site-packages\\torch\\_tensor.py:836: UserWarning: non-inplace resize is deprecated\n",
      "  warnings.warn(\"non-inplace resize is deprecated\")\n"
     ]
    }
   ],
   "source": [
    "x = torch.arange(16).resize(1,1,4,4)\n",
    "print(x)\n",
    "pool = torch.nn.MaxPool2d(3,1)\n",
    "y = pool(x)\n",
    "print(y)"
   ]
  }
 ],
 "metadata": {
  "kernelspec": {
   "display_name": "pytorch_cpu",
   "language": "python",
   "name": "python3"
  },
  "language_info": {
   "codemirror_mode": {
    "name": "ipython",
    "version": 3
   },
   "file_extension": ".py",
   "mimetype": "text/x-python",
   "name": "python",
   "nbconvert_exporter": "python",
   "pygments_lexer": "ipython3",
   "version": "3.11.5"
  }
 },
 "nbformat": 4,
 "nbformat_minor": 2
}
